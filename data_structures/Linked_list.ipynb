{
 "cells": [
  {
   "attachments": {},
   "cell_type": "markdown",
   "metadata": {},
   "source": [
    "# Linked list: \n",
    "1) usage: dynamic storage (storage can be precalculated based on operational needs)\n",
    "2) easy to insert/delete stuff without shifting the entire elements since each element has an address\n",
    "3) used in other operations: such as stack, queue, graph, hash maps, etc.\n",
    "\n",
    "Types: \n",
    "1) Single-linked list: linear, one direction, traverse in the fwd direction\n",
    "2) Double linked list: bidirectional, fwd and reverse\n",
    "3) Circular linked list: can be single/double but last element goes back to the head\n",
    "\n",
    "Operations:\n",
    "1) insertion - insert element and also update pointers \n",
    "2) deletion - delete element and bridge pointers on either end\n",
    "3) searching - traversing from head until end of list is reached"
   ]
  },
  {
   "cell_type": "code",
   "execution_count": 3,
   "metadata": {},
   "outputs": [],
   "source": [
    "# Components of a linked list\n",
    "class Node:\n",
    "    def __init__(self, key):     # __init__() method is used to initialize the attributes of a Node object when it is created.\n",
    "        self.key = key \n",
    "        self.next = None\n",
    "\n",
    "class LinkedList:\n",
    "    def __init__(self):\n",
    "        self.head = None\n",
    "\n",
    "    def push(self, new_data):\n",
    "        new_node = Node(new_data) # create node\n",
    "        new_node.next = self.head # point new node to previous head\n",
    "        self.head = new_node # change head to new node\n",
    "    \n",
    "    def display(self):\n",
    "        current = self.head\n",
    "        while current:\n",
    "            print(current.key, end=\" -> \")\n",
    "            current = current.next\n",
    "        print(\"None\")\n",
    "\n",
    "# Usage\n",
    "linked_list = LinkedList()\n",
    "\n",
    "# Add nodes using the push method\n",
    "linked_list.push(30)\n",
    "linked_list.push(20)\n",
    "linked_list.push(10)"
   ]
  },
  {
   "cell_type": "code",
   "execution_count": 4,
   "metadata": {},
   "outputs": [
    {
     "name": "stdout",
     "output_type": "stream",
     "text": [
      "10 -> 20 -> 30 -> None\n"
     ]
    }
   ],
   "source": [
    "linked_list.display()"
   ]
  },
  {
   "cell_type": "code",
   "execution_count": 7,
   "metadata": {},
   "outputs": [],
   "source": [
    "# Searching\n",
    "\n",
    "# create a list\n",
    "llist = LinkedList()\n",
    " \n",
    "# Add new nodes to the linked list\n",
    "llist.push(10)\n",
    "llist.push(30)\n",
    "llist.push(11)\n",
    "llist.push(21)\n",
    "llist.push(14)\n",
    "\n",
    "temp = llist.head\n",
    "\n",
    "# List to store the keys in the linked list\n",
    "v = []\n",
    " \n",
    "# Traverse the linked list and store the keys in the list \"v\"\n",
    "while(temp):\n",
    "    v.append(temp.key)\n",
    "    temp = temp.next"
   ]
  },
  {
   "cell_type": "code",
   "execution_count": null,
   "metadata": {},
   "outputs": [],
   "source": [
    "# small aside on __init___\n",
    "\n",
    "class Person:\n",
    "    def __init__(self, name, age):\n",
    "        self.name = name\n",
    "        self.age = age\n",
    "\n",
    "# Attributes: name, age are attributes of the Person class\n",
    "person1 = Person(\"Alice\", 30)\n",
    "person2 = Person(\"Bob\", 25)\n",
    "\n",
    "# Instances: Person 1 and Person 2 and instances of the Person class"
   ]
  },
  {
   "attachments": {},
   "cell_type": "markdown",
   "metadata": {},
   "source": [
    "Write your own linked list class "
   ]
  },
  {
   "cell_type": "code",
   "execution_count": 11,
   "metadata": {},
   "outputs": [],
   "source": [
    "class Node:\n",
    "    def __init__(self, data):\n",
    "        self.key = data\n",
    "        self.next = None \n",
    "\n",
    "class LinkedList:\n",
    "    def __init__(self): \n",
    "        self.head = None\n",
    "    \n",
    "    def push(self, data):\n",
    "        new_node = Node(data)\n",
    "        new_node.next = self.head\n",
    "        self.head = new_node\n",
    "\n",
    "    def display(self):\n",
    "        current = self.head\n",
    "        while current:\n",
    "            print(f'{current.key} ->') \n",
    "            current = current.next\n",
    "        print(\"None\")    \n",
    "\n",
    "    def getCount(self):\n",
    "        num_nodes = 0 \n",
    "        current = self.head\n",
    "        while current: \n",
    "            num_nodes += 1\n",
    "            current = self.next\n",
    "        return num_nodes\n",
    "    \n",
    "    def reverse(self): \n",
    "        prev_node = None\n",
    "        current_node = self.head\n",
    "        while (current_node is not None):\n",
    "            next_node = current_node.next\n",
    "            current_node.next = prev_node\n",
    "            prev_node = current_node\n",
    "            current_node = next_node\n",
    "        self.head = prev_node                  "
   ]
  },
  {
   "cell_type": "code",
   "execution_count": 13,
   "metadata": {},
   "outputs": [
    {
     "name": "stdout",
     "output_type": "stream",
     "text": [
      "Given linked list\n",
      "85 ->\n",
      "15 ->\n",
      "4 ->\n",
      "20 ->\n",
      "None\n",
      "\n",
      "Reversed linked list\n",
      "20 ->\n",
      "4 ->\n",
      "15 ->\n",
      "85 ->\n",
      "None\n"
     ]
    }
   ],
   "source": [
    "llist = LinkedList()\n",
    "llist.push(20)\n",
    "llist.push(4)\n",
    "llist.push(15)\n",
    "llist.push(85)\n",
    " \n",
    "print (\"Given linked list\")\n",
    "llist.display()\n",
    "llist.reverse()\n",
    "print (\"\\nReversed linked list\")\n",
    "llist.display()"
   ]
  },
  {
   "cell_type": "markdown",
   "metadata": {},
   "source": [
    "# merging/intersecting 2 sorted linked lists"
   ]
  },
  {
   "cell_type": "code",
   "execution_count": null,
   "metadata": {},
   "outputs": [],
   "source": [
    "# Definition for singly-linked list.\n",
    "\n",
    "\n",
    "class ListNode:\n",
    "    def __init__(self, val=0, next=None):\n",
    "        self.val = val\n",
    "        self.next = next\n",
    "\n",
    "class Solution:\n",
    "    def mergeTwoLists(self, list1: Optional[ListNode], list2: Optional[ListNode]) -> Optional[ListNode]:\n",
    "        # ensures dummy points to the beginning of list, while cur points to the current node in the merged list\n",
    "        cur = dummy = ListNode() \n",
    "        while list1 and list2:               \n",
    "            if list1.val < list2.val:\n",
    "                cur.next = list1 \n",
    "                cur = cur.next\n",
    "                list1 = list1.next\n",
    "        \n",
    "            else:\n",
    "                cur.next = list2\n",
    "                cur = cur.next\n",
    "                list2 = list2.next\n",
    "                \n",
    "        if list1 or list2:\n",
    "            cur.next = list1 if list1 else list2\n",
    "            \n",
    "        return dummy.next"
   ]
  },
  {
   "cell_type": "code",
   "execution_count": null,
   "metadata": {},
   "outputs": [],
   "source": [
    "class Solution:\n",
    "    def mergeTwoLists(self, list1: Optional[ListNode], list2: Optional[ListNode]) -> Optional[ListNode]:\n",
    "        # ensures dummy points to the beginning of list, while cur points to the current node in the merged list\n",
    "        cur = dummy = ListNode() \n",
    "        while list1 and list2:               \n",
    "            if list1.val < list2.val:\n",
    "                cur.next = list1 \n",
    "                list1, cur = list1.next, list1\n",
    "            else:\n",
    "                cur.next = list2\n",
    "                cur = cur.next\n",
    "                list2 = list2.next\n",
    "                \n",
    "        if list1 or list2:\n",
    "            cur.next = list1 if list1 else list2\n",
    "            \n",
    "        return dummy.next"
   ]
  },
  {
   "cell_type": "code",
   "execution_count": 2,
   "metadata": {},
   "outputs": [
    {
     "name": "stdout",
     "output_type": "stream",
     "text": [
      "[8, 10]\n"
     ]
    }
   ],
   "source": [
    "test = []\n",
    "test.append(8)\n",
    "test.append(10)\n",
    "print(test)"
   ]
  },
  {
   "cell_type": "code",
   "execution_count": 3,
   "metadata": {},
   "outputs": [
    {
     "data": {
      "text/plain": [
       "True"
      ]
     },
     "execution_count": 3,
     "metadata": {},
     "output_type": "execute_result"
    }
   ],
   "source": [
    "8 in test"
   ]
  },
  {
   "cell_type": "code",
   "execution_count": 4,
   "metadata": {},
   "outputs": [
    {
     "data": {
      "text/plain": [
       "0"
      ]
     },
     "execution_count": 4,
     "metadata": {},
     "output_type": "execute_result"
    }
   ],
   "source": [
    "test.index(8)"
   ]
  },
  {
   "cell_type": "code",
   "execution_count": 42,
   "metadata": {},
   "outputs": [],
   "source": [
    "from typing import Optional\n",
    "# Definition for singly-linked list.\n",
    "class ListNode:\n",
    "    def __init__(self, x):\n",
    "        self.val = x\n",
    "        self.next = None\n",
    "\n",
    "class Solution:\n",
    "    def hasCycle(self, head: Optional[ListNode]) -> bool:\n",
    "\n",
    "        # keep a list of numbers traversed and check if tail.next equals it\n",
    "\n",
    "        # traversal:\n",
    "        stored_vals = []\n",
    "        stored_vals.append(head.val)\n",
    "        head = head.next\n",
    "        while head.val not in stored_vals:\n",
    "            stored_vals.append(head.val)\n",
    "            head = head.next\n",
    "        \n",
    "        return head.val in stored_vals\n",
    "    \n",
    "def createLL(list):\n",
    "    head = ListNode(0)\n",
    "    current = head\n",
    "    for val in list:\n",
    "        current.next = ListNode(val)\n",
    "        current = current.next\n",
    "    return head.next\n",
    "\n",
    "def createCircLL(list, pos):\n",
    "    head = ListNode(0)\n",
    "    current = head\n",
    "    for val in list:\n",
    "        current.next = ListNode(val)\n",
    "        current = current.next\n",
    "    \n",
    "     # Find the node at the specified position\n",
    "    pos_node = head.next\n",
    "    for _ in range(pos):\n",
    "        pos_node = pos_node.next\n",
    "    \n",
    "    current.next = pos_node    \n",
    "    \n",
    "    return head.next\n",
    "     "
   ]
  },
  {
   "cell_type": "code",
   "execution_count": 33,
   "metadata": {},
   "outputs": [],
   "source": [
    "linkedlistex = createLL([3,2,0,-4])"
   ]
  },
  {
   "cell_type": "code",
   "execution_count": 34,
   "metadata": {},
   "outputs": [
    {
     "name": "stdout",
     "output_type": "stream",
     "text": [
      "3 -> 2 -> 0 -> -4 -> "
     ]
    }
   ],
   "source": [
    "current = linkedlistex\n",
    "while current:\n",
    "    print(current.val, end=\" -> \")\n",
    "    current = current.next"
   ]
  },
  {
   "cell_type": "code",
   "execution_count": 49,
   "metadata": {},
   "outputs": [
    {
     "name": "stdout",
     "output_type": "stream",
     "text": [
      "3 -> 2 -> 0 -> -4 -> 2 -> "
     ]
    }
   ],
   "source": [
    "current = circLL\n",
    "for _ in range(len([3,2,0,-4]) + 1):\n",
    "    print(current.val, end=\" -> \")\n",
    "    current = current.next    "
   ]
  },
  {
   "cell_type": "code",
   "execution_count": 52,
   "metadata": {},
   "outputs": [],
   "source": [
    "class Solution:\n",
    "    def hasCycle(self, head: Optional[ListNode]) -> bool:\n",
    "\n",
    "        # keep a list of numbers traversed and check if tail.next equals it\n",
    "\n",
    "        # traversal:\n",
    "        stored_vals = []\n",
    "        while head:\n",
    "            if head in stored_vals:\n",
    "                return True\n",
    "            else:\n",
    "                stored_vals.append(head.val)\n",
    "                head = head.next\n",
    "            \n",
    "        return False"
   ]
  },
  {
   "cell_type": "code",
   "execution_count": 55,
   "metadata": {},
   "outputs": [],
   "source": [
    "solution = Solution()\n",
    "has_cycle = solution.hasCycle(circLL)\n"
   ]
  },
  {
   "cell_type": "code",
   "execution_count": 56,
   "metadata": {},
   "outputs": [
    {
     "data": {
      "text/plain": [
       "True"
      ]
     },
     "execution_count": 56,
     "metadata": {},
     "output_type": "execute_result"
    }
   ],
   "source": [
    "has_cycle"
   ]
  },
  {
   "cell_type": "code",
   "execution_count": 57,
   "metadata": {},
   "outputs": [
    {
     "data": {
      "text/plain": [
       "True"
      ]
     },
     "execution_count": 57,
     "metadata": {},
     "output_type": "execute_result"
    }
   ],
   "source": [
    "test=[0,2,2]\n",
    "\n",
    "test == [0,2,2]"
   ]
  },
  {
   "cell_type": "code",
   "execution_count": 58,
   "metadata": {},
   "outputs": [
    {
     "data": {
      "text/plain": [
       "[0, 2]"
      ]
     },
     "execution_count": 58,
     "metadata": {},
     "output_type": "execute_result"
    }
   ],
   "source": [
    "test[0:2]"
   ]
  },
  {
   "cell_type": "code",
   "execution_count": 66,
   "metadata": {},
   "outputs": [],
   "source": [
    "def canPlaceFlowers(flowerbed, n: int) -> bool:\n",
    "    added_f = 0\n",
    "    for s in range(len(flowerbed)):\n",
    "        if s > 0 and s <= len(flowerbed)-2:\n",
    "            if flowerbed[s-1] == 0 and flowerbed[s+1] == 0 and flowerbed[s] == 0 :\n",
    "                flowerbed[s] = 1\n",
    "                added_f = added_f + 1\n",
    "        elif s == 0:\n",
    "            if flowerbed[s] == 0 and flowerbed[s+1] == 0:          \n",
    "                flowerbed[s] = 1\n",
    "                added_f = added_f + 1\n",
    "        elif s == len(flowerbed)-1:\n",
    "            if flowerbed[s] == 0 and flowerbed[s-1] == 0:\n",
    "                flowerbed[s] = 1\n",
    "                added_f = added_f + 1\n",
    "    return added_f == n, flowerbed"
   ]
  },
  {
   "cell_type": "code",
   "execution_count": 68,
   "metadata": {},
   "outputs": [
    {
     "data": {
      "text/plain": [
       "(True, [1, 0, 1, 0, 1, 0, 1])"
      ]
     },
     "execution_count": 68,
     "metadata": {},
     "output_type": "execute_result"
    }
   ],
   "source": [
    "test = [1, 0, 0, 0, 0, 0, 1]\n",
    "canPlaceFlowers(flowerbed=test, n=2)"
   ]
  },
  {
   "cell_type": "code",
   "execution_count": null,
   "metadata": {},
   "outputs": [],
   "source": [
    "class Solution:\n",
    "    def canPlaceFlowers(self, flowerbed: List[int], n: int) -> bool:\n",
    "        added_f = 0\n",
    "        if n ==0: \n",
    "            return True\n",
    "        if len(flowerbed) == 1 and flowerbed[0] == 0:\n",
    "            return 1 == n\n",
    "        for s in range(len(flowerbed)):\n",
    "            if s > 0 and s <= len(flowerbed)-2:\n",
    "                if flowerbed[s-1] == 0 and flowerbed[s+1] == 0 and flowerbed[s] == 0 :\n",
    "                    flowerbed[s] = 1\n",
    "                    added_f = added_f + 1\n",
    "            elif s == 0:\n",
    "                if flowerbed[s] == 0 and flowerbed[s+1] == 0:          \n",
    "                    flowerbed[s] = 1\n",
    "                    added_f = added_f + 1\n",
    "            elif s == len(flowerbed)-1:\n",
    "                if flowerbed[s] == 0 and flowerbed[s-1] == 0:\n",
    "                    flowerbed[s] = 1\n",
    "                    added_f = added_f + 1\n",
    "        return added_f >= n\n",
    "            "
   ]
  }
 ],
 "metadata": {
  "kernelspec": {
   "display_name": "venv",
   "language": "python",
   "name": "python3"
  },
  "language_info": {
   "codemirror_mode": {
    "name": "ipython",
    "version": 3
   },
   "file_extension": ".py",
   "mimetype": "text/x-python",
   "name": "python",
   "nbconvert_exporter": "python",
   "pygments_lexer": "ipython3",
   "version": "3.8.8"
  },
  "orig_nbformat": 4,
  "vscode": {
   "interpreter": {
    "hash": "78caa81e3627b05c33f6a27e2343475beb68d155d54763802f3d4d62a9b4391c"
   }
  }
 },
 "nbformat": 4,
 "nbformat_minor": 2
}
