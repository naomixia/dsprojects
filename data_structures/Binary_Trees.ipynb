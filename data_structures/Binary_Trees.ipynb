{
 "cells": [
  {
   "cell_type": "markdown",
   "metadata": {},
   "source": [
    "Intro to Binary Trees\n",
    "\n",
    "What it is:         <br>\n",
    "What it is used for:         <br>"
   ]
  },
  {
   "cell_type": "code",
   "execution_count": 2,
   "metadata": {},
   "outputs": [],
   "source": [
    "# setup\n",
    "class Node:\n",
    "    def __init__(self, value):\n",
    "        self.value = value\n",
    "        self.left = None\n",
    "        self.right = None"
   ]
  },
  {
   "cell_type": "code",
   "execution_count": 4,
   "metadata": {},
   "outputs": [],
   "source": [
    "root = Node(1)\n",
    "root.left = Node(2)  # Left child with value 2\n",
    "root.right = Node(3) # Right child with value 3\n",
    "# each node at most as 2 child nodes "
   ]
  },
  {
   "cell_type": "markdown",
   "metadata": {},
   "source": [
    "      1\n",
    "     / \\\n",
    "    2   3\n"
   ]
  },
  {
   "cell_type": "code",
   "execution_count": 7,
   "metadata": {},
   "outputs": [],
   "source": [
    "# now add nodes to child nodes\n",
    "# Add children to the left subtree\n",
    "root.left.left = Node(4)\n",
    "root.left.right = Node(5)\n",
    "\n",
    "# Add children to the right subtree\n",
    "root.right.left = Node(6)\n",
    "root.right.right = Node(7)"
   ]
  },
  {
   "cell_type": "markdown",
   "metadata": {},
   "source": [
    "       1\n",
    "     /   \\\n",
    "    2     3\n",
    "   / \\   / \\\n",
    "  4   5 6   7"
   ]
  },
  {
   "cell_type": "code",
   "execution_count": 8,
   "metadata": {},
   "outputs": [
    {
     "name": "stdout",
     "output_type": "stream",
     "text": [
      "In-order traversal:\n",
      "4 2 5 1 6 3 7 "
     ]
    }
   ],
   "source": [
    "# Traversing the node \"in order\" - Traverse left subtree, visit the root, traverse right subtree.\n",
    "def inorder_traversal(node):\n",
    "    if node is not None:\n",
    "        inorder_traversal(node.left)\n",
    "        print(node.value, end=\" \")\n",
    "        inorder_traversal(node.right)\n",
    "\n",
    "print(\"In-order traversal:\")\n",
    "inorder_traversal(root)"
   ]
  },
  {
   "cell_type": "code",
   "execution_count": 9,
   "metadata": {},
   "outputs": [],
   "source": [
    "# Binary tree search\n",
    "def search(node, target):\n",
    "    if node is None or node.value == target:\n",
    "        return node\n",
    "    if target < node.value:\n",
    "        return search(node.left, target)\n",
    "    return search(node.right, target)"
   ]
  },
  {
   "cell_type": "code",
   "execution_count": 10,
   "metadata": {},
   "outputs": [
    {
     "name": "stdout",
     "output_type": "stream",
     "text": [
      "5 not found in the binary tree.\n"
     ]
    }
   ],
   "source": [
    "target_value = 5\n",
    "result_node = search(root, target_value)\n",
    "if result_node:\n",
    "    print(f\"Found {target_value} in the binary tree.\")\n",
    "else:\n",
    "    print(f\"{target_value} not found in the binary tree.\")"
   ]
  },
  {
   "cell_type": "code",
   "execution_count": 11,
   "metadata": {},
   "outputs": [],
   "source": [
    "# Insertion\n",
    "def insert(node, value):\n",
    "    if node is None:\n",
    "        return Node(value)\n",
    "\n",
    "    if value < node.value:\n",
    "        node.left = insert(node.left, value)\n",
    "    elif value > node.value:\n",
    "        node.right = insert(node.right, value)\n",
    "\n",
    "    return node"
   ]
  },
  {
   "cell_type": "code",
   "execution_count": 12,
   "metadata": {},
   "outputs": [],
   "source": [
    "new_value = 8\n",
    "root = insert(root, new_value)\n"
   ]
  },
  {
   "cell_type": "markdown",
   "metadata": {},
   "source": [
    "       1\n",
    "     /   \\\n",
    "    2     3\n",
    "   / \\   / \\\n",
    "  4   5 6   7\n",
    "               \\\n",
    "                8"
   ]
  },
  {
   "cell_type": "code",
   "execution_count": 15,
   "metadata": {},
   "outputs": [
    {
     "name": "stdout",
     "output_type": "stream",
     "text": [
      "4 2 5 1 6 3 7 8 "
     ]
    }
   ],
   "source": [
    "inorder_traversal(root)"
   ]
  },
  {
   "cell_type": "code",
   "execution_count": null,
   "metadata": {},
   "outputs": [],
   "source": [
    "# Recursive calls\n",
    "def inorder_traversal(node):\n",
    "    # initially, it would be the root of the entire binary tree).\n",
    "    # if node == None, we have reached the end i.e. there are no more leaf nodes\n",
    "    if node is not None:  \n",
    "        inorder_traversal(node.left) # recursively searches left \n",
    "        print(node.value, end=\" \")\n",
    "        inorder_traversal(node.right)"
   ]
  },
  {
   "cell_type": "markdown",
   "metadata": {},
   "source": [
    "understanding when recursion is necessary and when not"
   ]
  }
 ],
 "metadata": {
  "kernelspec": {
   "display_name": "venv",
   "language": "python",
   "name": "python3"
  },
  "language_info": {
   "codemirror_mode": {
    "name": "ipython",
    "version": 3
   },
   "file_extension": ".py",
   "mimetype": "text/x-python",
   "name": "python",
   "nbconvert_exporter": "python",
   "pygments_lexer": "ipython3",
   "version": "3.8.8"
  },
  "orig_nbformat": 4
 },
 "nbformat": 4,
 "nbformat_minor": 2
}
