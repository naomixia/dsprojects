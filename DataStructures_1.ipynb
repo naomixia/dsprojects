{
 "cells": [
  {
   "attachments": {},
   "cell_type": "markdown",
   "metadata": {},
   "source": [
    "# Linked list: \n",
    "1) usage: dynamic storage (storage can be precalculated based on operational needs)\n",
    "2) easy to insert/delete stuff without shifting the entire elements since each element has an address\n",
    "3) used in other operations: such as stack, queue, graph, hash maps, etc.\n",
    "\n",
    "Types: \n",
    "1) Single-linked list: linear, one direction, traverse in the fwd direction\n",
    "2) Double linked list: bidirectional, fwd and reverse\n",
    "3) Circular linked list: can be single/double but last element goes back to the head\n",
    "\n",
    "Operations:\n",
    "1) insertion - insert element and also update pointers \n",
    "2) deletion - delete element and bridge pointers on either end\n",
    "3) searching - traversing from head until end of list is reached"
   ]
  },
  {
   "cell_type": "code",
   "execution_count": 3,
   "metadata": {},
   "outputs": [],
   "source": [
    "# Components of a linked list\n",
    "class Node:\n",
    "    def __init__(self, key):     # __init__() method is used to initialize the attributes of a Node object when it is created.\n",
    "        self.key = key \n",
    "        self.next = None\n",
    "\n",
    "class LinkedList:\n",
    "    def __init__(self):\n",
    "        self.head = None\n",
    "\n",
    "    def push(self, new_data):\n",
    "        new_node = Node(new_data)\n",
    "        new_node.next = self.head\n",
    "        self.head = new_node\n",
    "    \n",
    "    def display(self):\n",
    "        current = self.head\n",
    "        while current:\n",
    "            print(current.key, end=\" -> \")\n",
    "            current = current.next\n",
    "        print(\"None\")\n",
    "\n",
    "# Usage\n",
    "linked_list = LinkedList()\n",
    "\n",
    "# Add nodes using the push method\n",
    "linked_list.push(30)\n",
    "linked_list.push(20)\n",
    "linked_list.push(10)"
   ]
  },
  {
   "cell_type": "code",
   "execution_count": 4,
   "metadata": {},
   "outputs": [
    {
     "name": "stdout",
     "output_type": "stream",
     "text": [
      "10 -> 20 -> 30 -> None\n"
     ]
    }
   ],
   "source": [
    "linked_list.display()"
   ]
  },
  {
   "cell_type": "code",
   "execution_count": 7,
   "metadata": {},
   "outputs": [],
   "source": [
    "# Searching\n",
    "\n",
    "# create a list\n",
    "llist = LinkedList()\n",
    " \n",
    "# Add new nodes to the linked list\n",
    "llist.push(10)\n",
    "llist.push(30)\n",
    "llist.push(11)\n",
    "llist.push(21)\n",
    "llist.push(14)\n",
    "\n",
    "temp = llist.head\n",
    "\n",
    "# List to store the keys in the linked list\n",
    "v = []\n",
    " \n",
    "# Traverse the linked list and store the keys in the list \"v\"\n",
    "while(temp):\n",
    "    v.append(temp.key)\n",
    "    temp = temp.next"
   ]
  },
  {
   "cell_type": "code",
   "execution_count": null,
   "metadata": {},
   "outputs": [],
   "source": [
    "# small aside on __init___\n",
    "\n",
    "class Person:\n",
    "    def __init__(self, name, age):\n",
    "        self.name = name\n",
    "        self.age = age\n",
    "\n",
    "# Attributes: name, age are attributes of the Person class\n",
    "person1 = Person(\"Alice\", 30)\n",
    "person2 = Person(\"Bob\", 25)\n",
    "\n",
    "# Instances: Person 1 and Person 2 and instances of the Person class"
   ]
  },
  {
   "attachments": {},
   "cell_type": "markdown",
   "metadata": {},
   "source": [
    "Write your own linked list class "
   ]
  },
  {
   "cell_type": "code",
   "execution_count": 11,
   "metadata": {},
   "outputs": [],
   "source": [
    "class Node:\n",
    "    def __init__(self, data):\n",
    "        self.key = data\n",
    "        self.next = None \n",
    "\n",
    "class LinkedList:\n",
    "    def __init__(self): \n",
    "        self.head = None\n",
    "    \n",
    "    def push(self, data):\n",
    "        new_node = Node(data)\n",
    "        new_node.next = self.head\n",
    "        self.head = new_node\n",
    "\n",
    "    def display(self):\n",
    "        current = self.head\n",
    "        while current:\n",
    "            print(f'{current.key} ->') \n",
    "            current = current.next\n",
    "        print(\"None\")    \n",
    "\n",
    "    def getCount(self):\n",
    "        num_nodes = 0 \n",
    "        current = self.head\n",
    "        while current: \n",
    "            num_nodes += 1\n",
    "            current = self.next\n",
    "        return num_nodes\n",
    "    \n",
    "    def reverse(self): \n",
    "        prev_node = None\n",
    "        current_node = self.head\n",
    "        while (current_node is not None):\n",
    "            next_node = current_node.next\n",
    "            current_node.next = prev_node\n",
    "            prev_node = current_node\n",
    "            current_node = next_node\n",
    "        self.head = prev_node \n",
    "\n",
    "        \n",
    "                         "
   ]
  },
  {
   "cell_type": "code",
   "execution_count": 13,
   "metadata": {},
   "outputs": [
    {
     "name": "stdout",
     "output_type": "stream",
     "text": [
      "Given linked list\n",
      "85 ->\n",
      "15 ->\n",
      "4 ->\n",
      "20 ->\n",
      "None\n",
      "\n",
      "Reversed linked list\n",
      "20 ->\n",
      "4 ->\n",
      "15 ->\n",
      "85 ->\n",
      "None\n"
     ]
    }
   ],
   "source": [
    "llist = LinkedList()\n",
    "llist.push(20)\n",
    "llist.push(4)\n",
    "llist.push(15)\n",
    "llist.push(85)\n",
    " \n",
    "print (\"Given linked list\")\n",
    "llist.display()\n",
    "llist.reverse()\n",
    "print (\"\\nReversed linked list\")\n",
    "llist.display()"
   ]
  },
  {
   "cell_type": "code",
   "execution_count": 15,
   "metadata": {},
   "outputs": [],
   "source": [
    "# merging/intersecting 2 sorted linked lists"
   ]
  },
  {
   "cell_type": "code",
   "execution_count": null,
   "metadata": {},
   "outputs": [],
   "source": [
    "class Node:\n",
    "    def __init__(self, data):\n",
    "        self.key = data\n",
    "        self.next = None \n",
    "\n",
    "class LinkedList:\n",
    "    def __init__(self): \n",
    "        self.head = None\n",
    "    \n",
    "    def push(self, data):\n",
    "        new_node = Node(data)\n",
    "        new_node.next = self.head\n",
    "        self.head = new_node\n",
    "\n",
    "    def intersectLL(self, a, b):\n",
    "        output = Node(0)\n",
    "        current = output\n",
    "\n",
    "        while (a.data != None & b.data != None):\n",
    "            if (a.data == b.data):\n",
    "                current.next= Node(a.data)\n",
    "                current = current.next\n",
    "                a = a.next\n",
    "                b = b.next\n",
    "\n",
    "            # advance the smaller list\n",
    "            if (a.data < b.data):\n",
    "                a = a.next\n",
    "            else:\n",
    "                b = b.next\n",
    "        \n",
    "        output = output.next # remove dummy node \n",
    "        return \n",
    "\n",
    "        \n",
    "\n",
    "\n"
   ]
  }
 ],
 "metadata": {
  "kernelspec": {
   "display_name": "venv",
   "language": "python",
   "name": "python3"
  },
  "language_info": {
   "codemirror_mode": {
    "name": "ipython",
    "version": 3
   },
   "file_extension": ".py",
   "mimetype": "text/x-python",
   "name": "python",
   "nbconvert_exporter": "python",
   "pygments_lexer": "ipython3",
   "version": "3.8.8"
  },
  "orig_nbformat": 4,
  "vscode": {
   "interpreter": {
    "hash": "78caa81e3627b05c33f6a27e2343475beb68d155d54763802f3d4d62a9b4391c"
   }
  }
 },
 "nbformat": 4,
 "nbformat_minor": 2
}
