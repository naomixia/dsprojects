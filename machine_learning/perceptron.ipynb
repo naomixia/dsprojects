{
 "cells": [
  {
   "attachments": {},
   "cell_type": "markdown",
   "metadata": {},
   "source": [
    "# Perceptron\n"
   ]
  },
  {
   "attachments": {},
   "cell_type": "markdown",
   "metadata": {},
   "source": [
    "A perceptron is the one of the simpliest ANN, each input is associated with a weight w. A linear function (usually a step function) is applied to generate an output which passes through a threshold based output (1, if exceedin a value, otherwise 0 ) = A TLU\n",
    "\n",
    "Properties: \n",
    "1) input layer: inputs can connect to one or more threshold logic unit (TLU) \n",
    "2) output layer: various TLUs \n",
    "3) activation function: function used by the ANN (e.g. for TLU, it is a step function)"
   ]
  },
  {
   "cell_type": "code",
   "execution_count": null,
   "metadata": {},
   "outputs": [],
   "source": [
    "import numpy as np \n",
    "from sklearn.datasets import load_iris"
   ]
  },
  {
   "cell_type": "code",
   "execution_count": null,
   "metadata": {},
   "outputs": [],
   "source": []
  }
 ],
 "metadata": {
  "kernelspec": {
   "display_name": "Python 3",
   "language": "python",
   "name": "python3"
  },
  "language_info": {
   "name": "python",
   "version": "3.10.0"
  },
  "orig_nbformat": 4,
  "vscode": {
   "interpreter": {
    "hash": "aee8b7b246df8f9039afb4144a1f6fd8d2ca17a180786b69acc140d282b71a49"
   }
  }
 },
 "nbformat": 4,
 "nbformat_minor": 2
}
