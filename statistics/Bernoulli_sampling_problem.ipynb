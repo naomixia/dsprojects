{
 "cells": [
  {
   "cell_type": "markdown",
   "metadata": {},
   "source": [
    "Bernoulli Distribution and Sampling Distribution Example Problem"
   ]
  },
  {
   "cell_type": "markdown",
   "metadata": {},
   "source": [
    "Given a coin, you throw it 1000 times and get 550/1000 heads. Is it a fair coin? "
   ]
  },
  {
   "cell_type": "markdown",
   "metadata": {},
   "source": [
    "The problem is a binomial distribution where you population data is P = [1, 0, 0, 1, 1, 1] generated from a true population parameter probability p. \n",
    "\n",
    "From this population, we take a sampe of size N=1000, and find that p_test is 550/1000 (it is still binomial data because you can just divide the number of flips by N)\n",
    "\n",
    "The question is if p = 0.5, what is the probability?"
   ]
  },
  {
   "cell_type": "markdown",
   "metadata": {},
   "source": [
    "The underlying data comes from a population where samples are 0 (failure) or 1 (success). N is our sample and p_test = 0.55. We want to find whether the confidence interval for p contains p = 0.5. "
   ]
  },
  {
   "cell_type": "code",
   "execution_count": 21,
   "metadata": {},
   "outputs": [],
   "source": [
    "import pandas as pd\n",
    "import numpy as np\n",
    "import matplotlib.pyplot as plt\n",
    "from random import sample\n",
    "from scipy.stats import bernoulli, binom, norm\n",
    "import seaborn as sns"
   ]
  },
  {
   "cell_type": "code",
   "execution_count": 2,
   "metadata": {},
   "outputs": [],
   "source": [
    "p = 0.5\n",
    "num_samples = 100000\n",
    "sample_size = 1000\n",
    "population_data = bernoulli(p).rvs(num_samples)"
   ]
  },
  {
   "cell_type": "code",
   "execution_count": 3,
   "metadata": {},
   "outputs": [
    {
     "data": {
      "text/plain": [
       "array([1, 0, 1, ..., 0, 1, 1])"
      ]
     },
     "execution_count": 3,
     "metadata": {},
     "output_type": "execute_result"
    }
   ],
   "source": [
    "population_data"
   ]
  },
  {
   "cell_type": "code",
   "execution_count": 4,
   "metadata": {},
   "outputs": [],
   "source": [
    "# Take random samples and calculate the mean\n",
    "def rand_sample_calc_proportion(num_samples, sample_size, population):\n",
    "    mean_list = np.zeros(num_samples)\n",
    "    for n in range(num_samples):\n",
    "        random_sample = np.random.choice(population, size = sample_size, replace = True)\n",
    "        mean_list[n] = np.mean(random_sample)\n",
    "    return mean_list"
   ]
  },
  {
   "cell_type": "code",
   "execution_count": 5,
   "metadata": {},
   "outputs": [],
   "source": [
    "sampling_distribution = rand_sample_calc_proportion(num_samples, sample_size, population_data)\n"
   ]
  },
  {
   "cell_type": "code",
   "execution_count": 39,
   "metadata": {},
   "outputs": [],
   "source": [
    "p_hat = 0.55"
   ]
  },
  {
   "cell_type": "code",
   "execution_count": 40,
   "metadata": {},
   "outputs": [
    {
     "data": {
      "text/plain": [
       "Text(0.5, 0, 'Sampling Distribution of the Proportion')"
      ]
     },
     "execution_count": 40,
     "metadata": {},
     "output_type": "execute_result"
    },
    {
     "data": {
      "image/png": "[encoded data removed]",
      "text/plain": [
       "<Figure size 350x250 with 1 Axes>"
      ]
     },
     "metadata": {},
     "output_type": "display_data"
    }
   ],
   "source": [
    "fig, ax = plt.subplots(figsize=(3.5, 2.5))\n",
    "count, bins, ignored = ax.hist(sampling_distribution, 30, density=True, edgecolor='white')\n",
    "ylim = plt.gca().get_ylim()\n",
    "ax.plot([p_hat, p_hat], ylim)\n",
    "plt.xlabel(\"Sampling Distribution of the Proportion\")"
   ]
  },
  {
   "cell_type": "markdown",
   "metadata": {},
   "source": [
    "We want to know the probability that we see p_hat = 0.55, that is:\n",
    "\n",
    "p&#x0302; > p + 2 $\\sigma$ <sub>p&#x0302;</sub> <br>\n",
    "p&#x0302; < p - 2 $\\sigma$ <sub>p&#x0302;</sub> <br>\n"
   ]
  },
  {
   "cell_type": "code",
   "execution_count": 34,
   "metadata": {},
   "outputs": [
    {
     "data": {
      "text/plain": [
       "0.01579623838613486"
      ]
     },
     "execution_count": 34,
     "metadata": {},
     "output_type": "execute_result"
    }
   ],
   "source": [
    "np.std(sampling_distribution)"
   ]
  },
  {
   "cell_type": "code",
   "execution_count": 37,
   "metadata": {},
   "outputs": [],
   "source": [
    "# since we are pretending we dont have access to the sampling distribution we can estimate standard deviation: \n",
    "variance = (1-p)*p\n",
    "variance_sampling_dist = variance/sample_size\n",
    "stdev_sampling = np.sqrt(variance_sampling_dist)"
   ]
  },
  {
   "cell_type": "code",
   "execution_count": 36,
   "metadata": {},
   "outputs": [
    {
     "name": "stdout",
     "output_type": "stream",
     "text": [
      "0.5\n"
     ]
    }
   ],
   "source": [
    "print(stdev_sampling)"
   ]
  },
  {
   "cell_type": "markdown",
   "metadata": {},
   "source": [
    "Confidence interval for p, meaning if we were to repeatedly sample from this population, and create confidence intervals each time, 95% of the time the true population parameter will fall be between the constructed intervals\n",
    "\n",
    "critical value for 95%CI is given by:"
   ]
  },
  {
   "cell_type": "code",
   "execution_count": 22,
   "metadata": {},
   "outputs": [],
   "source": [
    "critical_value_95 = norm.ppf(.025, loc = 0, scale = 1)\n"
   ]
  },
  {
   "cell_type": "code",
   "execution_count": 23,
   "metadata": {},
   "outputs": [
    {
     "data": {
      "text/plain": [
       "-1.9599639845400545"
      ]
     },
     "execution_count": 23,
     "metadata": {},
     "output_type": "execute_result"
    }
   ],
   "source": [
    "critical_value_95"
   ]
  },
  {
   "cell_type": "code",
   "execution_count": 38,
   "metadata": {},
   "outputs": [
    {
     "name": "stdout",
     "output_type": "stream",
     "text": [
      "0.5809897516152281 0.5190102483847719\n"
     ]
    }
   ],
   "source": [
    "p_hat = 0.55\n",
    "CIupper = p_hat + critical_value_95*stdev_sampling\n",
    "CIlower = p_hat - critical_value_95*stdev_sampling\n",
    "\n",
    "print(CIlower,CIupper)"
   ]
  },
  {
   "cell_type": "markdown",
   "metadata": {},
   "source": [
    "This interval does contains our test statistic p_test = 0.55 so we conclude that the coin is fair"
   ]
  },
  {
   "cell_type": "markdown",
   "metadata": {},
   "source": []
  }
 ],
 "metadata": {
  "kernelspec": {
   "display_name": "venv",
   "language": "python",
   "name": "python3"
  },
  "language_info": {
   "codemirror_mode": {
    "name": "ipython",
    "version": 3
   },
   "file_extension": ".py",
   "mimetype": "text/x-python",
   "name": "python",
   "nbconvert_exporter": "python",
   "pygments_lexer": "ipython3",
   "version": "3.8.8"
  },
  "orig_nbformat": 4
 },
 "nbformat": 4,
 "nbformat_minor": 2
}
