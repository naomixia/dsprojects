{
 "cells": [
  {
   "attachments": {},
   "cell_type": "markdown",
   "metadata": {},
   "source": [
    "# Hypothesis Testing - 1"
   ]
  },
  {
   "attachments": {},
   "cell_type": "markdown",
   "metadata": {},
   "source": [
    "What is a pvalue? \n",
    "- the probability observing a value as extreme as the test statistic, assuming the null hypothesis H<sub>0</sub> is true\n",
    "- How does confidence intervals relate to p.values and hypothesis testing?"
   ]
  },
  {
   "attachments": {},
   "cell_type": "markdown",
   "metadata": {},
   "source": [
    "Generating p-values using a simulation\n"
   ]
  },
  {
   "cell_type": "code",
   "execution_count": 26,
   "metadata": {},
   "outputs": [],
   "source": [
    "import pandas as pd\n",
    "import numpy as np\n",
    "import matplotlib.pyplot as plt\n",
    "from random import sample\n",
    "from scipy.stats import bernoulli, binom, geom\n",
    "import scipy.stats as stats\n"
   ]
  },
  {
   "attachments": {},
   "cell_type": "markdown",
   "metadata": {},
   "source": [
    "Question: There is a population has a p=0.06 proportion that likes spicy food. We'd like to test : what is the probability that our sample p_hat = 20%, if the null is true"
   ]
  },
  {
   "cell_type": "code",
   "execution_count": 12,
   "metadata": {},
   "outputs": [],
   "source": [
    "# generate a population from which to sample from: \n",
    "p = 0.06\n",
    "N_samples = 10000\n",
    "population = bernoulli(p).rvs(N_samples)"
   ]
  },
  {
   "attachments": {},
   "cell_type": "markdown",
   "metadata": {},
   "source": [
    "H<sub>0</sub>: p = 0.06<br>\n",
    "H<sub>1</sub>: p > 0.06 (one tailed) \n",
    "\n",
    "The p-value we want to calculate is: P( p_hat >= 0.2 | H<sub>0</sub> = True)\n",
    "\n",
    "To calculate the p-value we can generate a simulation from the population assuming H<sub>0</sub> is true; <br>\n",
    "We take 40 random samples of N=25 and calculate the p_hat for each sample. By doing so, we have created sampling distribution of the proportion."
   ]
  },
  {
   "cell_type": "code",
   "execution_count": 13,
   "metadata": {},
   "outputs": [],
   "source": [
    "def rand_sample_calc_proportion(num_samples, sample_size, population):\n",
    "    mean_list = np.zeros(num_samples)\n",
    "    for n in range(num_samples):\n",
    "        random_sample = np.random.choice(population, size = sample_size, replace = True)\n",
    "        mean_list[n] = np.mean(random_sample)\n",
    "    return mean_list"
   ]
  },
  {
   "cell_type": "code",
   "execution_count": 18,
   "metadata": {},
   "outputs": [],
   "source": [
    "num_samples = 40\n",
    "sampling_distribution = rand_sample_calc_proportion(num_samples, 25, population)"
   ]
  },
  {
   "cell_type": "code",
   "execution_count": 19,
   "metadata": {},
   "outputs": [
    {
     "data": {
      "text/plain": [
       "array([0.08, 0.  , 0.08, 0.2 , 0.08])"
      ]
     },
     "execution_count": 19,
     "metadata": {},
     "output_type": "execute_result"
    }
   ],
   "source": [
    "sampling_distribution[:5]"
   ]
  },
  {
   "cell_type": "code",
   "execution_count": 20,
   "metadata": {},
   "outputs": [
    {
     "data": {
      "text/plain": [
       "Text(0, 0.5, 'Density')"
      ]
     },
     "execution_count": 20,
     "metadata": {},
     "output_type": "execute_result"
    },
    {
     "data": {
      "image/png": "[encoded data removed]",
      "text/plain": [
       "<Figure size 350x250 with 1 Axes>"
      ]
     },
     "metadata": {},
     "output_type": "display_data"
    }
   ],
   "source": [
    "fig, ax = plt.subplots(figsize=(3.5, 2.5))\n",
    "count, bins1, ignored = ax.hist(sampling_distribution, 30, density=True, edgecolor='white')\n",
    "ax.set_xlabel('Sampling Distribution of the Sample Mean')\n",
    "ax.set_ylabel('Density')"
   ]
  },
  {
   "cell_type": "code",
   "execution_count": 21,
   "metadata": {},
   "outputs": [
    {
     "name": "stdout",
     "output_type": "stream",
     "text": [
      "0.05\n"
     ]
    }
   ],
   "source": [
    "pvalue = (sampling_distribution >= 0.20).sum() / 40.\n",
    "print(pvalue)"
   ]
  },
  {
   "attachments": {},
   "cell_type": "markdown",
   "metadata": {},
   "source": [
    "# Other approaches: calculating z-statistics and obtaining a pvalue "
   ]
  },
  {
   "attachments": {},
   "cell_type": "markdown",
   "metadata": {},
   "source": [
    "If our sample size is known we can calculate a p-value by using the z-statistic as opposed to using simulations. In this case the sample needs to meet the assumptions for the sampling distribution, which includes:\n",
    "1) Randaom - the sample is drawn randomly\n",
    "2) Normal - the sample has a normal distribution with np >= 10 and n(1-p) >= 10\n",
    "3) Independent - either with replacement or small enough sample (<10% of population)\n",
    "\n",
    "\n",
    "In a population, we presume that the proportion of people who eat an apple a day is 0.2. However, we have a suspicion that less people eat an apple a day. We take a random sample of 65, and find that 11 people report to eating an apple. What is probability that this sample proportion is due to chance?\n",
    "\n",
    "null: p = 0.2 <br>\n",
    "alt: p<0.2"
   ]
  },
  {
   "cell_type": "code",
   "execution_count": 23,
   "metadata": {},
   "outputs": [
    {
     "name": "stdout",
     "output_type": "stream",
     "text": [
      "-0.6201736729460422\n"
     ]
    }
   ],
   "source": [
    "sample_prop = 11/65\n",
    "sample_size = 65\n",
    "presumed_population_prop = 0.2\n",
    "\n",
    "z_statistic = (sample_prop - presumed_population_prop)/np.sqrt(presumed_population_prop * (1-presumed_population_prop) / sample_size)\n",
    "# calculates how many standard deviations apart the sample prop and presumed_population_prop is\n",
    "print(z_statistic)"
   ]
  },
  {
   "cell_type": "code",
   "execution_count": 27,
   "metadata": {},
   "outputs": [],
   "source": [
    "# our alt. hypothesis is p < 0.2 \n",
    "cdf = stats.norm.cdf(z_statistic)"
   ]
  },
  {
   "cell_type": "code",
   "execution_count": 28,
   "metadata": {},
   "outputs": [
    {
     "data": {
      "text/plain": [
       "0.2675717261988753"
      ]
     },
     "execution_count": 28,
     "metadata": {},
     "output_type": "execute_result"
    }
   ],
   "source": [
    "cdf"
   ]
  },
  {
   "attachments": {},
   "cell_type": "markdown",
   "metadata": {},
   "source": [
    "Since our pvalue is alpha = 0.05, we fail to reject the null hypothesis"
   ]
  },
  {
   "cell_type": "code",
   "execution_count": 29,
   "metadata": {},
   "outputs": [
    {
     "data": {
      "text/plain": [
       "0.03362496941962834"
      ]
     },
     "execution_count": 29,
     "metadata": {},
     "output_type": "execute_result"
    }
   ],
   "source": [
    "1-stats.norm.cdf(1.83)"
   ]
  }
 ],
 "metadata": {
  "kernelspec": {
   "display_name": "venv",
   "language": "python",
   "name": "python3"
  },
  "language_info": {
   "codemirror_mode": {
    "name": "ipython",
    "version": 3
   },
   "file_extension": ".py",
   "mimetype": "text/x-python",
   "name": "python",
   "nbconvert_exporter": "python",
   "pygments_lexer": "ipython3",
   "version": "3.8.8"
  },
  "orig_nbformat": 4,
  "vscode": {
   "interpreter": {
    "hash": "78caa81e3627b05c33f6a27e2343475beb68d155d54763802f3d4d62a9b4391c"
   }
  }
 },
 "nbformat": 4,
 "nbformat_minor": 2
}
