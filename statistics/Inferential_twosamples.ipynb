{
 "cells": [
  {
   "attachments": {},
   "cell_type": "markdown",
   "metadata": {},
   "source": [
    "# Two sample proportion z-intervals, hypothesis testing "
   ]
  },
  {
   "cell_type": "code",
   "execution_count": 83,
   "metadata": {},
   "outputs": [],
   "source": [
    "import pandas as pd\n",
    "import numpy as np\n",
    "import matplotlib.pyplot as plt\n",
    "from random import sample\n",
    "import scipy.stats\n",
    "from scipy.stats import bernoulli\n",
    "from scipy.stats import norm"
   ]
  },
  {
   "attachments": {},
   "cell_type": "markdown",
   "metadata": {},
   "source": [
    "To calculate the confidence interval of the difference between two populations, we calculate a margin of error with this format:\n",
    "\n",
    "p<sub>1</sub> - p <sub>2</sub> $\\pm$ z<sup>*</sup> $\\sigma$ <sub>p1-p2</sub> <br>\n",
    "\n",
    "where z<sup>*</sup> is the critical value of the standard normal distribution <br>\n",
    "$\\sigma$ <sub>p1-p2</sub> is the standard deviation of the sampling distribution of the difference in proportion <br>\n",
    "\n",
    "$\\sigma_{p1-p2} = \\sqrt{\\sigma_{p1}^2 + \\sigma_{p2}^2}$\n",
    "\n",
    "where: $\\sigma$ <sup>2</sup><sub>p1</sub> = $\\frac{p1*(1-p1)}{N}$\n",
    "* note that the proportion for each population is used to calculate its own sampling distribution standard deviation"
   ]
  },
  {
   "attachments": {},
   "cell_type": "markdown",
   "metadata": {},
   "source": [
    "## Example Problem:\n",
    "There are two populations, p1 and p2, p1 has a sample size of 120 and p2 has a sample size of 140. There are 54 people in p1 in favor of the lunch menu and 77 from p2. Construct a 90% confidence interval to estimate the difference between p1 and p2 proportion in favor of lunch. \n",
    "\n",
    "There are 3 sampling distributions:\n",
    "1) sampling distribution for p1\n",
    "2) sampling distribution for p2 \n",
    "3) sampling distribution for p1-p2"
   ]
  },
  {
   "cell_type": "code",
   "execution_count": 84,
   "metadata": {},
   "outputs": [],
   "source": [
    "p1 = 54/120\n",
    "p2 = 77/140\n",
    "pdiff = p2 - p1\n",
    "p_overall = (54 + 77)/(120 + 140)"
   ]
  },
  {
   "cell_type": "code",
   "execution_count": 85,
   "metadata": {},
   "outputs": [],
   "source": [
    "p = 0.05\n",
    "num_samples = 100000\n",
    "sample_size = 1000\n",
    "data = bernoulli(p).rvs(num_samples)"
   ]
  },
  {
   "cell_type": "code",
   "execution_count": 86,
   "metadata": {},
   "outputs": [],
   "source": [
    "def rand_sample_calc_mean(num_samples, sample_size, population):\n",
    "    mean_list = np.zeros(num_samples)\n",
    "    for n in range(num_samples):\n",
    "        random_sample = np.random.choice(population, size = sample_size, replace = True)\n",
    "        mean_list[n] = np.mean(random_sample)\n",
    "    return mean_list"
   ]
  },
  {
   "cell_type": "code",
   "execution_count": 87,
   "metadata": {},
   "outputs": [],
   "source": [
    "sampling_distribution = rand_sample_calc_mean(5000, 100, data)"
   ]
  },
  {
   "cell_type": "code",
   "execution_count": 88,
   "metadata": {},
   "outputs": [
    {
     "data": {
      "text/plain": [
       "0.5038461538461538"
      ]
     },
     "execution_count": 88,
     "metadata": {},
     "output_type": "execute_result"
    }
   ],
   "source": [
    "p_overall"
   ]
  },
  {
   "cell_type": "code",
   "execution_count": 89,
   "metadata": {},
   "outputs": [
    {
     "data": {
      "text/plain": [
       "[]"
      ]
     },
     "execution_count": 89,
     "metadata": {},
     "output_type": "execute_result"
    },
    {
     "data": {
      "image/png": "[encoded data removed]",
      "text/plain": [
       "<Figure size 350x250 with 1 Axes>"
      ]
     },
     "metadata": {},
     "output_type": "display_data"
    }
   ],
   "source": [
    "# Plot sampling distribution for 100 samples, each with N = 100\n",
    "fig, ax = plt.subplots(figsize=(3.5, 2.5))\n",
    "\n",
    "count, bins1, ignored = ax.hist(sampling_distribution, 30, density=True, edgecolor='white')\n",
    "ax.set_xlabel('Sampling Distribution of p1-p2')\n",
    "ax.set_ylabel('Density')\n",
    "\n",
    "ylim = plt.gca().get_ylim()\n",
    "ax.plot([pdiff, pdiff], ylim)\n",
    "\n",
    "plt.plot()\n"
   ]
  },
  {
   "cell_type": "code",
   "execution_count": 90,
   "metadata": {},
   "outputs": [
    {
     "name": "stdout",
     "output_type": "stream",
     "text": [
      "-1.6448536269514729\n"
     ]
    }
   ],
   "source": [
    "# for 90% confidence interval remembere that this leaves 5% of either side, so you're looking at 0.05 percentile onn the percent point function (inverse of cdf — percentiles)\n",
    "critical_value_90 = norm.ppf(.05, loc = 0, scale = 1)\n",
    "print(critical_value_90)"
   ]
  },
  {
   "cell_type": "code",
   "execution_count": 91,
   "metadata": {},
   "outputs": [],
   "source": [
    "var_p1 = p1*(1-p1)/120\n",
    "var_p2 = p2*(1-p2)/140"
   ]
  },
  {
   "attachments": {},
   "cell_type": "markdown",
   "metadata": {},
   "source": [
    "the standard error for a diff between two groups = sqrt(var_group_1 + var_group_2) because we are assuming that these two groups are from drawn randomly from indepedent populations"
   ]
  },
  {
   "cell_type": "code",
   "execution_count": 92,
   "metadata": {},
   "outputs": [
    {
     "data": {
      "text/plain": [
       "0.10179979221346554"
      ]
     },
     "execution_count": 92,
     "metadata": {},
     "output_type": "execute_result"
    }
   ],
   "source": [
    "margin_of_error =  -critical_value_90 * np.sqrt(var_p1 + var_p2)\n",
    "margin_of_error"
   ]
  },
  {
   "attachments": {},
   "cell_type": "markdown",
   "metadata": {},
   "source": [
    "# Hypothesis Testing\n",
    "\n",
    "for 2 sample proportions.\n",
    "\n",
    "Given Group A, proportion = 132/400 and Group B, proportion = 228/600 what is the probability of observing this difference, assuming null hypothesis is true? <br>\n",
    "\n",
    "H<sub>0</sub>: p<sub>A</sub> - p<sub>B</sub> = 0 <br>\n",
    "H<sub>1</sub>: p<sub>A</sub> - p<sub>B</sub> != 0\n",
    "\n",
    "Find: <br>\n",
    "P ( p<sub>A</sub> - p<sub>B</sub> >= 0.06 | H<sub>0</sub> = True)\n",
    "\n"
   ]
  },
  {
   "cell_type": "code",
   "execution_count": 51,
   "metadata": {},
   "outputs": [
    {
     "name": "stdout",
     "output_type": "stream",
     "text": [
      "0.04999999999999999\n"
     ]
    }
   ],
   "source": [
    "pdiff_AB = abs((132/400) - (228/600))\n",
    "print(pdiff_AB)"
   ]
  },
  {
   "cell_type": "code",
   "execution_count": 78,
   "metadata": {},
   "outputs": [
    {
     "data": {
      "text/plain": [
       "Text(0.5, 0, 'Population Data assuming null is true')"
      ]
     },
     "execution_count": 78,
     "metadata": {},
     "output_type": "execute_result"
    },
    {
     "data": {
      "image/png": "[encoded data removed]",
      "text/plain": [
       "<Figure size 350x250 with 1 Axes>"
      ]
     },
     "metadata": {},
     "output_type": "display_data"
    }
   ],
   "source": [
    "# simulate the null hypothesis, which assumes null is true, which means that the two samples come from the sample population \n",
    "p_all = (132 + 228)/1000 # overall proportion of the two sample, is used to approximate population proportion\n",
    "data = bernoulli(p_all).rvs(num_samples)\n",
    "\n",
    "fig, ax = plt.subplots(figsize=(3.5, 2.5))\n",
    "count, bins1, ignored = ax.hist(data, 30, density=True, edgecolor='white')\n",
    "ax.set_xlabel('Population Data assuming null is true')"
   ]
  },
  {
   "cell_type": "code",
   "execution_count": 54,
   "metadata": {},
   "outputs": [],
   "source": [
    "def two_sample_sampling_distribution(data, sample_size1, sample_size2, num_samples):\n",
    "    mean_diff_list = np.zeros(num_samples)\n",
    "    for n in range(num_samples):\n",
    "        random_sample_1 = np.random.choice(data, size = sample_size1, replace = True)\n",
    "        random_sample_2 = np.random.choice(data, size = sample_size2, replace = True)\n",
    "        mean_diff_list[n] = np.mean(random_sample_1) - np.mean(random_sample_2)\n",
    "    return mean_diff_list"
   ]
  },
  {
   "cell_type": "code",
   "execution_count": 55,
   "metadata": {},
   "outputs": [],
   "source": [
    "mean_diff_data = two_sample_sampling_distribution(data, 400, 600, 5000)"
   ]
  },
  {
   "cell_type": "code",
   "execution_count": 56,
   "metadata": {},
   "outputs": [
    {
     "data": {
      "text/plain": [
       "array([-0.02916667, -0.05583333,  0.01833333,  0.05833333, -0.00416667])"
      ]
     },
     "execution_count": 56,
     "metadata": {},
     "output_type": "execute_result"
    }
   ],
   "source": [
    "mean_diff_data[:5]"
   ]
  },
  {
   "cell_type": "code",
   "execution_count": 80,
   "metadata": {},
   "outputs": [
    {
     "data": {
      "text/plain": [
       "[<matplotlib.lines.Line2D at 0x7fcf4907f6a0>]"
      ]
     },
     "execution_count": 80,
     "metadata": {},
     "output_type": "execute_result"
    },
    {
     "data": {
      "image/png": "[encoded data removed]",
      "text/plain": [
       "<Figure size 350x250 with 1 Axes>"
      ]
     },
     "metadata": {},
     "output_type": "display_data"
    }
   ],
   "source": [
    "fig, ax = plt.subplots(figsize=(3.5, 2.5))\n",
    "count, bins1, ignored = ax.hist(mean_diff_data, 30, density=True, edgecolor='white')\n",
    "ax.set_xlabel('Sampling distribution of the meandiff, assuming null is true')\n",
    "ylim = plt.gca().get_ylim()\n",
    "plt.plot([pdiff_AB, pdiff_AB], ylim, '--r')"
   ]
  },
  {
   "attachments": {},
   "cell_type": "markdown",
   "metadata": {},
   "source": [
    "We have now produced a null hypothesis sampling distribution!"
   ]
  },
  {
   "cell_type": "code",
   "execution_count": 59,
   "metadata": {},
   "outputs": [
    {
     "data": {
      "text/plain": [
       "0.04999999999999999"
      ]
     },
     "execution_count": 59,
     "metadata": {},
     "output_type": "execute_result"
    }
   ],
   "source": [
    "pdiff_AB #diff between mean proportion"
   ]
  },
  {
   "cell_type": "code",
   "execution_count": 71,
   "metadata": {},
   "outputs": [],
   "source": [
    "p_all = (132 + 228)/1000 # overall proportion of the two sample, is used to approximate population proportion"
   ]
  },
  {
   "attachments": {},
   "cell_type": "markdown",
   "metadata": {},
   "source": [
    "The sd of the sampling distribution of the group difference is calculated as follows:\n",
    "1) it approximates the sd of the original population\n",
    "\n",
    "2) $\\sigma$ <sub>A-B</sub> = sqrt( (p_overall * (1-p_overall))/N<sub>A</sub> +  (p_overall * (1-p_overall))/N<sub>B</sub>)\n",
    "\n",
    "$\\sigma_{A-B} = \\sqrt{\\frac{p_{\\text{overall}} \\cdot (1 - p_{\\text{overall}})}{N_A} + \\frac{p_{\\text{overall}} \\cdot (1 - p_{\\text{overall}})}{N_B}}$\n",
    "\n",
    "In the confidence interval calculation, we used P<sub>A</sub> and P<sub>B</sub>, however, in this case we want to use the proportion assuming the null hypothesis is true."
   ]
  },
  {
   "cell_type": "code",
   "execution_count": 73,
   "metadata": {},
   "outputs": [
    {
     "data": {
      "text/plain": [
       "0.030983866769659335"
      ]
     },
     "execution_count": 73,
     "metadata": {},
     "output_type": "execute_result"
    }
   ],
   "source": [
    "# we know that the mean difference is centered at 0, and the sd of the sampling distribution of the difference is equal to:\n",
    "sd_diff = np.sqrt( (p_all*(1-p_all)/400) + (p_all*(1-p_all)/600))\n",
    "sd_diff"
   ]
  },
  {
   "cell_type": "code",
   "execution_count": 62,
   "metadata": {},
   "outputs": [
    {
     "data": {
      "text/plain": [
       "0.031572190709898834"
      ]
     },
     "execution_count": 62,
     "metadata": {},
     "output_type": "execute_result"
    }
   ],
   "source": [
    "np.std(mean_diff_data) # indeed its is close to the actual  "
   ]
  },
  {
   "cell_type": "code",
   "execution_count": 67,
   "metadata": {},
   "outputs": [],
   "source": [
    "alpha = 0.05\n",
    "critical_value_at_alpha =  norm.ppf(.95, loc = 0, scale = 1)"
   ]
  },
  {
   "cell_type": "code",
   "execution_count": 74,
   "metadata": {},
   "outputs": [
    {
     "data": {
      "text/plain": [
       "1.6137430609197567"
      ]
     },
     "execution_count": 74,
     "metadata": {},
     "output_type": "execute_result"
    }
   ],
   "source": [
    "z_statistic = (pdiff_AB - 0) / sd_diff\n",
    "z_statistic"
   ]
  },
  {
   "cell_type": "code",
   "execution_count": 76,
   "metadata": {},
   "outputs": [
    {
     "name": "stdout",
     "output_type": "stream",
     "text": [
      "0.05329158478744383\n"
     ]
    }
   ],
   "source": [
    "print(norm.cdf(-z_statistic, loc = 0, scale = 1))"
   ]
  },
  {
   "attachments": {},
   "cell_type": "markdown",
   "metadata": {},
   "source": [
    "p = 0.053, which is not less than alpha = 0.05, so we fail to reject the null hypothesis"
   ]
  },
  {
   "attachments": {},
   "cell_type": "markdown",
   "metadata": {},
   "source": [
    "# Bridging hypothesis testing and confidence intervals"
   ]
  },
  {
   "attachments": {},
   "cell_type": "markdown",
   "metadata": {},
   "source": [
    "Suppose we have two groups M and F and we estimated the 90% confidence interval of the difference to be (0.004, 0.176), what is the p-value for the difference between group M and F? "
   ]
  },
  {
   "attachments": {},
   "cell_type": "markdown",
   "metadata": {},
   "source": [
    "H<sub>0</sub>: p<sub>M</sub> - p<sub>F</sub> = 0 <br>\n",
    "H<sub>1</sub>: p<sub>M</sub> - p<sub>F</sub> != 0\n",
    "\n",
    "This is the logic:\n",
    "1) We assume that 90% of the interval (0.004, 0.176) will contain the true population parameter. (definition of 90% CI)\n",
    "2) To calculate the p-value, what is the probability that 90% CI contains the population parameter, if the null hypothesis is true.\n",
    "3) which means we are saying if the 90% CI interval contains 0, then the pvalue is 0.90\n",
    "4) if the interval does not contain 0, then the pvalue = 0.10 (two tailed)\n",
    "\n",
    "In this case, we reject the null hypothesis."
   ]
  },
  {
   "cell_type": "code",
   "execution_count": 93,
   "metadata": {},
   "outputs": [
    {
     "data": {
      "text/plain": [
       "0.0025551303304279793"
      ]
     },
     "execution_count": 93,
     "metadata": {},
     "output_type": "execute_result"
    }
   ],
   "source": [
    "1-norm.cdf(2.8, loc = 0, scale =1)\n",
    "        "
   ]
  },
  {
   "attachments": {},
   "cell_type": "markdown",
   "metadata": {},
   "source": []
  }
 ],
 "metadata": {
  "kernelspec": {
   "display_name": "venv",
   "language": "python",
   "name": "python3"
  },
  "language_info": {
   "codemirror_mode": {
    "name": "ipython",
    "version": 3
   },
   "file_extension": ".py",
   "mimetype": "text/x-python",
   "name": "python",
   "nbconvert_exporter": "python",
   "pygments_lexer": "ipython3",
   "version": "3.8.8"
  },
  "orig_nbformat": 4,
  "vscode": {
   "interpreter": {
    "hash": "78caa81e3627b05c33f6a27e2343475beb68d155d54763802f3d4d62a9b4391c"
   }
  }
 },
 "nbformat": 4,
 "nbformat_minor": 2
}
