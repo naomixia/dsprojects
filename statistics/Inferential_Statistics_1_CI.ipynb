{
 "cells": [
  {
   "attachments": {},
   "cell_type": "markdown",
   "metadata": {},
   "source": [
    "# Fundamentals - Inferential Statistics 1 "
   ]
  },
  {
   "attachments": {},
   "cell_type": "markdown",
   "metadata": {},
   "source": [
    "Confidence Intervals.\n",
    "We previously showed that when you take repeated, random samples from a population and take the mean and plot the distribution, you obtain a sampling distribution of the sample mean. Using  this information, we will show how we can make inferences about the underlying population when we start from one random sample."
   ]
  },
  {
   "attachments": {},
   "cell_type": "markdown",
   "metadata": {},
   "source": [
    "Example: Given a population that has individual values 0 or 1, if we take a random sample, p<sub>A</sub>. What is 95% confidence interval? What is the probability that it is within 2 $\\sigma$ <sub>p&#x0302;</sub> of p?"
   ]
  },
  {
   "cell_type": "code",
   "execution_count": 1,
   "metadata": {},
   "outputs": [],
   "source": [
    "import pandas as pd\n",
    "import numpy as np\n",
    "import matplotlib.pyplot as plt\n",
    "from random import sample\n",
    "from scipy.stats import bernoulli, binom\n",
    "import seaborn as sns"
   ]
  },
  {
   "cell_type": "code",
   "execution_count": 2,
   "metadata": {},
   "outputs": [],
   "source": [
    "# Population is best modeled by a Bernoulli distribution. This a discrete distribution that has a success with probability p, and failure with probability 1-p\n",
    "p = 0.6\n",
    "N_samples = 10000\n",
    "population_data = bernoulli(p).rvs(N_samples)"
   ]
  },
  {
   "cell_type": "code",
   "execution_count": 3,
   "metadata": {},
   "outputs": [
    {
     "data": {
      "text/plain": [
       "Text(0.5, 0, 'Outcome')"
      ]
     },
     "execution_count": 3,
     "metadata": {},
     "output_type": "execute_result"
    },
    {
     "data": {
      "image/png": "[encoded data removed]",
      "text/plain": [
       "<Figure size 350x250 with 1 Axes>"
      ]
     },
     "metadata": {},
     "output_type": "display_data"
    }
   ],
   "source": [
    "plt.subplots(figsize=(3.5, 2.5))\n",
    "sns.histplot(population_data, stat=\"density\", discrete=True, shrink=0.2)\n",
    "plt.xlabel(\"Outcome\")"
   ]
  },
  {
   "attachments": {},
   "cell_type": "markdown",
   "metadata": {},
   "source": [
    "For a bernoulli distribution, the Expected Value $\\mu$ is equal to the average. <br>\n",
    "The expected value E(X) is the weighted sum of each of the outcomes.\n",
    "\n",
    "E(X) = p*1 + (1-p)*0 = p <br>\n",
    "$\\sigma$ <sup>2</sup> = p(1-p)"
   ]
  },
  {
   "attachments": {},
   "cell_type": "markdown",
   "metadata": {},
   "source": [
    "A binomial distribution is the probability distribution of the number of successes in a fixed number of independent Bernoulli trials, where: <br>\n",
    "E(X) = np <br>\n",
    "$\\sigma$ <sup>2</sup> = np(1-p)\n",
    "\n",
    "Also, the binomial distribution describes the probability of getting \"k\" successes (usually denoted as \"X = k\") out of \"n\" trials, where each trial follows a Bernoulli distribution with probability \"p\"\n",
    "\n",
    "The bernoulli distribution is a special case of the binomial distribution as it represents the probability distribution when there are N=1 trials\n"
   ]
  },
  {
   "attachments": {},
   "cell_type": "markdown",
   "metadata": {},
   "source": [
    "As an aside, let's review the binomial distribution, where we take samples of size N = 6. The expected value per bernoulli trial is the sum of the bernoulli outcome across 6 trials, repeated 1000000 times:"
   ]
  },
  {
   "cell_type": "code",
   "execution_count": 4,
   "metadata": {},
   "outputs": [],
   "source": [
    "n=6\n",
    "p = 0.3\n",
    "Y = bernoulli(p)\n",
    "Y_samples = [Y.rvs(1000000) for i in range(6)]\n",
    "Z_samples = sum(Y_samples)\n"
   ]
  },
  {
   "cell_type": "code",
   "execution_count": 5,
   "metadata": {},
   "outputs": [
    {
     "data": {
      "text/plain": [
       "Text(0.5, 0, 'Outcome from 6 trials')"
      ]
     },
     "execution_count": 5,
     "metadata": {},
     "output_type": "execute_result"
    },
    {
     "data": {
      "image/png": "[encoded data removed]",
      "text/plain": [
       "<Figure size 350x250 with 1 Axes>"
      ]
     },
     "metadata": {},
     "output_type": "display_data"
    }
   ],
   "source": [
    "plt.subplots(figsize=(3.5, 2.5))\n",
    "sns.histplot(Z_samples, stat=\"density\", discrete=True, shrink=0.3)\n",
    "plt.xlabel(\"Outcome from 6 trials\")"
   ]
  },
  {
   "attachments": {},
   "cell_type": "markdown",
   "metadata": {},
   "source": [
    "Back to our original example:"
   ]
  },
  {
   "cell_type": "code",
   "execution_count": 6,
   "metadata": {},
   "outputs": [],
   "source": [
    "p = 0.6\n",
    "num_samples = 100000\n",
    "sample_size = 1000\n",
    "population_data = bernoulli(p).rvs(num_samples)"
   ]
  },
  {
   "cell_type": "code",
   "execution_count": 7,
   "metadata": {},
   "outputs": [],
   "source": [
    "# Take random samples and calculate the mean\n",
    "def rand_sample_calc_proportion(num_samples, sample_size, population):\n",
    "    mean_list = np.zeros(num_samples)\n",
    "    for n in range(num_samples):\n",
    "        random_sample = np.random.choice(population, size = sample_size, replace = True)\n",
    "        mean_list[n] = np.mean(random_sample)\n",
    "    return mean_list"
   ]
  },
  {
   "cell_type": "code",
   "execution_count": 8,
   "metadata": {},
   "outputs": [
    {
     "name": "stdout",
     "output_type": "stream",
     "text": [
      "mean of sampling distribution: 0.60047025 , std of sampling distribution: 0.015489287747908241\n"
     ]
    }
   ],
   "source": [
    "sampling_distribution = rand_sample_calc_proportion(num_samples, sample_size, population_data)\n",
    "p_estimate= np.mean(sampling_distribution)\n",
    "sigma_estimate = np.std(sampling_distribution)\n",
    "print(f'mean of sampling distribution: {p_estimate} , std of sampling distribution: {sigma_estimate}')"
   ]
  },
  {
   "attachments": {},
   "cell_type": "markdown",
   "metadata": {},
   "source": [
    "# The logic of a confidence interval"
   ]
  },
  {
   "attachments": {},
   "cell_type": "markdown",
   "metadata": {},
   "source": [
    "Here is our point estimate from one random sample, p&#x0302;"
   ]
  },
  {
   "cell_type": "code",
   "execution_count": 15,
   "metadata": {},
   "outputs": [
    {
     "name": "stdout",
     "output_type": "stream",
     "text": [
      "single sample proportion, p_hat = 0.579, std deviation of sampling distr, sd = 0.015491933384829668\n"
     ]
    }
   ],
   "source": [
    "sample_proportion = rand_sample_calc_proportion(1, sample_size, population_data)\n",
    "p_hat = np.mean(sample_proportion)\n",
    "sd = np.sqrt(p*(1-p)/sample_size)\n",
    "print(f'single sample proportion, p_hat = {p_hat}, std deviation of sampling distr, sd = {sd}')"
   ]
  },
  {
   "cell_type": "code",
   "execution_count": 17,
   "metadata": {},
   "outputs": [
    {
     "data": {
      "text/plain": [
       "Text(0.5, 0, 'Sampling Distribution of the Proportion')"
      ]
     },
     "execution_count": 17,
     "metadata": {},
     "output_type": "execute_result"
    },
    {
     "data": {
      "image/png": "[encoded data removed]",
      "text/plain": [
       "<Figure size 350x250 with 1 Axes>"
      ]
     },
     "metadata": {},
     "output_type": "display_data"
    }
   ],
   "source": [
    "fig, ax = plt.subplots(figsize=(3.5, 2.5))\n",
    "count, bins, ignored = ax.hist(sampling_distribution, 30, density=True, edgecolor='white')\n",
    "ylim = plt.gca().get_ylim()\n",
    "ax.plot([p_hat, p_hat], ylim)\n",
    "plt.xlabel(\"Sampling Distribution of the Proportion\")"
   ]
  },
  {
   "attachments": {},
   "cell_type": "markdown",
   "metadata": {},
   "source": [
    "Or more generally, since we already know that this sampling distribution approximates the normal distribution. we can ask:\n",
    "\n",
    "what is the probability that our point estimate and further assume that our point estimate is the red line. <br>\n",
    "\n",
    "Since we do not know the population parameter, p, we assume our point estimate in reality could be left or right of the mean. <br>\n",
    "\n",
    "what is:\n",
    "\n",
    "p&#x0302; > p + 2 $\\sigma$ <sub>p&#x0302;</sub> <br>\n",
    "p&#x0302; < p - 2 $\\sigma$ <sub>p&#x0302;</sub> <br>\n",
    "\n",
    "?"
   ]
  },
  {
   "cell_type": "code",
   "execution_count": 27,
   "metadata": {},
   "outputs": [
    {
     "data": {
      "text/plain": [
       "Text(0.5, 0, 'p')"
      ]
     },
     "execution_count": 27,
     "metadata": {},
     "output_type": "execute_result"
    },
    {
     "data": {
      "image/png": "[encoded data removed]",
      "text/plain": [
       "<Figure size 500x300 with 1 Axes>"
      ]
     },
     "metadata": {},
     "output_type": "display_data"
    }
   ],
   "source": [
    "fig, ax = plt.subplots(figsize=(5, 3))\n",
    "count, bins, ignored = ax.hist(sampling_distribution, 30, density=True, edgecolor='white')\n",
    "ylim = plt.gca().get_ylim()\n",
    "ax.plot([p + 2*sd, p + 2*sd], ylim, '--k', label = \"97.5%\")\n",
    "ax.plot([p - 2*sd, p - 2*sd], ylim, '--k', label = \"2.5%\")\n",
    "plt.plot([0.64, 0.64], ylim, \"-r\", label = 'point_estimate')\n",
    "plt.title(\"Sampling Distribution of the Sample Proportion\")\n",
    "plt.legend(loc='upper right')\n",
    "plt.xticks([])\n",
    "plt.xlabel('p')"
   ]
  },
  {
   "attachments": {},
   "cell_type": "markdown",
   "metadata": {},
   "source": [
    "The answers to both is 2.5%\n",
    "\n",
    "Rearranging this, we get the probability of p&#x0302; being within 2 $\\sigma$ of p:\n",
    "\n",
    "P( p - 2 $\\sigma$ <sub> p&#x0302; </sub> <  p&#x0302; < p + 2 $\\sigma$ <sub>p&#x0302;</sub> ) = 1 - 2(2.5) = 95%\n",
    "\n",
    "This is equivalent to saying there is a 95% probability that the true population parameter is within the interval <br>\n",
    "\n",
    "P( p&#x0302; - 2 $\\sigma$ <sub> p&#x0302; </sub> <  p < p&#x0302; + 2 $\\sigma$ <sub>p&#x0302;</sub> ) = 95%"
   ]
  },
  {
   "cell_type": "code",
   "execution_count": null,
   "metadata": {},
   "outputs": [],
   "source": [
    "fig, ax = plt.subplots(figsize=(5, 3))\n",
    "count, bins, ignored = ax.hist(sampling_distribution, 30, density=True, edgecolor='white')\n",
    "ylim = plt.gca().get_ylim()\n",
    "ax.plot([p + 2*sd, p + 2*sd], ylim, '--k', label = \"97.5%\")\n",
    "ax.plot([p - 2*sd, p - 2*sd], ylim, '--k', label = \"2.5%\")\n",
    "plt.plot([0.64, 0.64], ylim, \"-r\", label = 'point_estimate')\n",
    "plt.xlabel(\"Sampling Distribution of the Proportion\")\n",
    "plt.legend(loc='upper right')"
   ]
  },
  {
   "attachments": {},
   "cell_type": "markdown",
   "metadata": {},
   "source": [
    "# Estimating $\\sigma$ <sub> p&#x0302;"
   ]
  },
  {
   "attachments": {},
   "cell_type": "markdown",
   "metadata": {},
   "source": [
    "$\\sigma$ <sub> p&#x0302; is the standard deviation of the sampling distribution. \n",
    "\n",
    "We can either calculate it empirically if we have access to all the sample data. \n",
    "\n",
    "Typically, if we know p, the population mean, we can calculate it as:\n",
    "\n",
    "$\\sigma$ <sub> p&#x0302; </sub> = sqrt(p(1-p)/N)   * N being the sample size\n",
    "\n",
    "if p is unknown, as it often is, we can use p&#x0302; to approximate it:\n",
    "\n",
    "SE(p&#x0302;) = sqrt(p&#x0302; * (1 - p&#x0302;) / N)"
   ]
  },
  {
   "cell_type": "markdown",
   "metadata": {},
   "source": []
  },
  {
   "attachments": {},
   "cell_type": "markdown",
   "metadata": {},
   "source": [
    "# Interpreting confidence interval"
   ]
  },
  {
   "attachments": {},
   "cell_type": "markdown",
   "metadata": {},
   "source": [
    "A 95% confidence interval is expressed as p&#x0302; - 2 $\\sigma$ <sub> p&#x0302; </sub> <  p < p&#x0302; + 2 $\\sigma$ <sub>p&#x0302;</sub> <br> \n",
    "or p~= p&#x0302; +/- 2*$\\sigma$ <sub> p&#x0302; </sub>\n",
    "\n",
    "<b>What this means if we were to repeatedly sample from this population, and create confidence intervals each time, 95% of the time the true population parameter will fall be between the constructed intervals </b>\n",
    "\n",
    "Confidence Interval Assumptions:\n",
    "1) Samples are independently draw with replacement OR < 10% of the total population size\n",
    "2) Sample size is at least np >= 10 and n(1-p) >= 10 (10 examples of each)\n"
   ]
  },
  {
   "attachments": {},
   "cell_type": "markdown",
   "metadata": {},
   "source": [
    "Confidence intervals are affected by sample size and sample variability "
   ]
  },
  {
   "attachments": {},
   "cell_type": "markdown",
   "metadata": {},
   "source": [
    "# Formal Formula\n",
    "\n",
    "CI  = p_hat +/- z* sd/sqrt(N)"
   ]
  },
  {
   "cell_type": "markdown",
   "metadata": {},
   "source": []
  }
 ],
 "metadata": {
  "kernelspec": {
   "display_name": "venv",
   "language": "python",
   "name": "python3"
  },
  "language_info": {
   "codemirror_mode": {
    "name": "ipython",
    "version": 3
   },
   "file_extension": ".py",
   "mimetype": "text/x-python",
   "name": "python",
   "nbconvert_exporter": "python",
   "pygments_lexer": "ipython3",
   "version": "3.8.8"
  },
  "orig_nbformat": 4,
  "vscode": {
   "interpreter": {
    "hash": "78caa81e3627b05c33f6a27e2343475beb68d155d54763802f3d4d62a9b4391c"
   }
  }
 },
 "nbformat": 4,
 "nbformat_minor": 2
}
