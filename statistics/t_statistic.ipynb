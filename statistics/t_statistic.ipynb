{
 "cells": [
  {
   "attachments": {},
   "cell_type": "markdown",
   "metadata": {},
   "source": [
    "# The t-statistic"
   ]
  },
  {
   "attachments": {},
   "cell_type": "markdown",
   "metadata": {},
   "source": [
    "we will cover: <br>\n",
    "-different types of t-tests <br>\n",
    "\n",
    "    1. one sample against the population mean \n",
    "    2. two sample (unequal and equal var) \n",
    "    3. paired test \n",
    "    \n",
    "-what are the assumptions of a t-test? <br>\n",
    "-what is a t-test and how is it used?"
   ]
  },
  {
   "cell_type": "code",
   "execution_count": 5,
   "metadata": {},
   "outputs": [],
   "source": [
    "from random import sample\n",
    "import numpy as np\n",
    "import matplotlib.pyplot as plt\n",
    "mu1, sigma1 = 0, 0.1 # mean and standard deviation\n",
    "population = np.random.normal(mu1, sigma1, 10000)"
   ]
  },
  {
   "cell_type": "code",
   "execution_count": 6,
   "metadata": {},
   "outputs": [
    {
     "data": {
      "text/plain": [
       "Text(0.5, 0, 'T-statistic')"
      ]
     },
     "execution_count": 6,
     "metadata": {},
     "output_type": "execute_result"
    },
    {
     "data": {
      "image/png": "[encoded data removed]",
      "text/plain": [
       "<Figure size 350x250 with 1 Axes>"
      ]
     },
     "metadata": {},
     "output_type": "display_data"
    }
   ],
   "source": [
    "fig, ax = plt.subplots(figsize=(3.5, 2.5))\n",
    "count, bins, ignored = ax.hist(population, 30, density=True, edgecolor='white')\n",
    "plt.xlabel(\"T-statistic\")"
   ]
  },
  {
   "cell_type": "markdown",
   "metadata": {},
   "source": [
    "# Paired t-test: \n",
    "\n",
    "1. The observations within the two samples must be related or paired in a meaningful way. \n",
    "2. All observations must be independent of each other. (they should all be measured independently and without any bias or underlying relationship between them.)\n",
    "3. It is assumed that both the samples are normally distributed, with similar variance and mean. * if not normal, use Wilcoxon's signed rank test\n",
    "4. Both samples should have equal sample sizes. \n",
    "\n",
    "T = $\\frac{x_{1-2} - \\mu}{\\sigma_{1-2}/\\sqrt{n}}$,   df = n-1\n",
    "\n",
    "where, $\\sigma$ <sub>1-2</sub> = std dev of difference of all pairs of data\n",
    "\n",
    "We assume that the sample difference is normally distributed with mean difference = 0, assuming null hypothesis is true. Standard deviation is from the sampling distribution of the mean difference\n"
   ]
  },
  {
   "cell_type": "markdown",
   "metadata": {},
   "source": [
    "# One sample t-test (and paired)\n",
    "Assumptions: \n",
    "1) Independent (values are not related to one another).\n",
    "2) Continuous.\n",
    "3) Obtained via a simple random sample from a population assumed to be normally distributed.\n",
    "\n",
    "$$ T = \\frac{x_{sample} - \\mu}{\\sigma_{sample}/\\sqrt{n}} $$\n",
    "df = n-1\n",
    "\n",
    "where $\\sigma_{sample}$ = sample standard deviation of the sample"
   ]
  },
  {
   "cell_type": "markdown",
   "metadata": {},
   "source": [
    "Tests for normality:\n",
    "\n",
    "1) Kolmogorov–Smirnov test\n",
    "2) Shapiro–Wilk test"
   ]
  },
  {
   "attachments": {},
   "cell_type": "markdown",
   "metadata": {},
   "source": [
    "# Two sample t-test"
   ]
  },
  {
   "cell_type": "markdown",
   "metadata": {},
   "source": [
    "Assumptions: \n",
    "1) The observations in one sample should be <b>independent</b> of the observations in the other sample.\n",
    "2) The data should be approximately <b>normally</b> distributed.\n",
    "3) The two samples should have approximately the same variance. If this assumption is not met, you should instead perform Welch’s t-test. If the variance is equal, the two sample t-test becomes equivalent to linear regression\n",
    "4) The data in both samples was obtained using a random sampling method."
   ]
  },
  {
   "cell_type": "markdown",
   "metadata": {},
   "source": [
    "General Format:\n",
    "$$ T = \\frac{{x_{1} - x_{2}}}{{\\sqrt{\\frac{{s_{1}^2}}{{n_{1}}} + \\frac{{s_{2}^2}}{{n_{2}}}}}} $$\n"
   ]
  },
  {
   "cell_type": "markdown",
   "metadata": {},
   "source": [
    "Similar variance, unequal N: <br>\n",
    "\n",
    "$\\sigma_{pooled} = \\frac{(n_{1} - 1) * s_{1}^2 + (n_{2} - 1) * s_{2}^2}{n_{1} + n_{2} - 2} $  <-saw on wikipedia\n",
    "\n",
    "T = $\\frac{x_{1} - x_{2}}{\\sigma_{pooled}/\\sqrt{\\frac{1}{n_1} + \\frac{1}{n_2}}}$\n",
    "\n",
    "\n"
   ]
  },
  {
   "cell_type": "markdown",
   "metadata": {},
   "source": []
  }
 ],
 "metadata": {
  "kernelspec": {
   "display_name": "Python 3",
   "language": "python",
   "name": "python3"
  },
  "language_info": {
   "codemirror_mode": {
    "name": "ipython",
    "version": 3
   },
   "file_extension": ".py",
   "mimetype": "text/x-python",
   "name": "python",
   "nbconvert_exporter": "python",
   "pygments_lexer": "ipython3",
   "version": "3.8.8"
  },
  "orig_nbformat": 4,
  "vscode": {
   "interpreter": {
    "hash": "50b46f6558801c27123d4e26254198732606471014138c2de7b375c39f6b74b4"
   }
  }
 },
 "nbformat": 4,
 "nbformat_minor": 2
}
