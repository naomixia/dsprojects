{
 "cells": [
  {
   "attachments": {},
   "cell_type": "markdown",
   "metadata": {},
   "source": [
    "# The t-statistic"
   ]
  },
  {
   "attachments": {},
   "cell_type": "markdown",
   "metadata": {},
   "source": [
    "we will cover: <br>\n",
    "-different types of t-tests <br>\n",
    "\n",
    "    1. one sample against the mean \n",
    "    2. two sample (unequal and equal var) \n",
    "    3. paired test \n",
    "    \n",
    "-what are the assumptions of a t-test? <br>\n",
    "-what is a t-test and how is it used?"
   ]
  },
  {
   "cell_type": "code",
   "execution_count": null,
   "metadata": {},
   "outputs": [],
   "source": []
  },
  {
   "attachments": {},
   "cell_type": "markdown",
   "metadata": {},
   "source": []
  }
 ],
 "metadata": {
  "kernelspec": {
   "display_name": "Python 3",
   "language": "python",
   "name": "python3"
  },
  "language_info": {
   "name": "python",
   "version": "3.8.8"
  },
  "orig_nbformat": 4,
  "vscode": {
   "interpreter": {
    "hash": "50b46f6558801c27123d4e26254198732606471014138c2de7b375c39f6b74b4"
   }
  }
 },
 "nbformat": 4,
 "nbformat_minor": 2
}
