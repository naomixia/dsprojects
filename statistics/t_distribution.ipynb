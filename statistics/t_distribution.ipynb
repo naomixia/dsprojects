{
 "cells": [
  {
   "attachments": {},
   "cell_type": "markdown",
   "metadata": {},
   "source": [
    "# The t-distribution\n",
    "\n",
    "Previously, when estimating the confidence interval, we used:\n",
    "\n",
    "$\\hat p  \\pm$ z* $\\frac{\\sigma}{\\sqrt{N}}$, where we estimated the standard error of the mean $\\sigma$ = $\\hat p$ * (1- $\\hat p$)\n",
    "\n",
    "if our statistic was a mean value you would be using:\n",
    "\n",
    "$\\bar x \\pm$ z* $\\frac{\\sigma}{\\sqrt(N)}$, but we cannot estimate $\\sigma$, so we approximate it with our sample standard deviation (s): <br>\n",
    "\n",
    "$\\bar x \\pm$ z* $\\frac{s}{\\sqrt(N)}$. <br>\n",
    "\n",
    "But given this severely underestimates our confidence interval, the t-distribution was developed so that the sample standard deviation can be used:\n",
    "\n",
    "$\\bar x$  +/ t* $s$/sqrt(N). <br>\n",
    "\n",
    "Each t-distribution is different depending on the df (degrees of freedom), which is typically sample size - 1\n",
    "\n",
    "Usage: Student’s T-Distribution is used for finding confidence intervals for the population mean when the sample size is less than 30 and the population standard deviation is unknown.  Further, the Student’s T-Test is divided into paired and unpaired T-Tests.\n",
    "\n"
   ]
  },
  {
   "attachments": {},
   "cell_type": "markdown",
   "metadata": {},
   "source": [
    "# Practice\n",
    "What is the critical value t <sup>*</sup> for a 98th percent confidence interval for a mean with 13 degrees of freedom?"
   ]
  },
  {
   "cell_type": "code",
   "execution_count": 16,
   "metadata": {},
   "outputs": [],
   "source": [
    "import scipy.stats\n",
    "from scipy.stats import t\n",
    "import numpy as np"
   ]
  },
  {
   "cell_type": "code",
   "execution_count": 10,
   "metadata": {},
   "outputs": [],
   "source": [
    "critical_value_98 = t.ppf(.99, df = 13, loc = 0, scale = 1)"
   ]
  },
  {
   "cell_type": "code",
   "execution_count": 11,
   "metadata": {},
   "outputs": [
    {
     "data": {
      "text/plain": [
       "2.6503088378527013"
      ]
     },
     "execution_count": 11,
     "metadata": {},
     "output_type": "execute_result"
    }
   ],
   "source": [
    "critical_value_98"
   ]
  },
  {
   "attachments": {},
   "cell_type": "markdown",
   "metadata": {},
   "source": [
    "A marine biologist wanted to construct a t interval to estimate the mean weight of marine otters using \n",
    "98th percent confidence. They took a random sample of 8 marine otters to measure their weights. These weights were roughly symmetric with a sampl mean = 4.5kg and stdev = 1.1kg. \n",
    "\n",
    "sample mean $\\pm$ critical_value * $\\frac{s}{\\sqrt{N}}$"
   ]
  },
  {
   "cell_type": "code",
   "execution_count": 21,
   "metadata": {},
   "outputs": [
    {
     "name": "stdout",
     "output_type": "stream",
     "text": [
      "5.665929535430864 3.3340704645691357\n"
     ]
    }
   ],
   "source": [
    "high = 4.5 + t.ppf(0.99, df = 7, loc = 0, scale = 1) * (1.1/np.sqrt(8))\n",
    "low =  4.5 + t.ppf(0.01, df = 7, loc = 0, scale = 1) * (1.1/np.sqrt(8))\n",
    "print(high,low)"
   ]
  },
  {
   "cell_type": "code",
   "execution_count": 22,
   "metadata": {},
   "outputs": [
    {
     "data": {
      "text/plain": [
       "2.9979515668685277"
      ]
     },
     "execution_count": 22,
     "metadata": {},
     "output_type": "execute_result"
    }
   ],
   "source": [
    "t.ppf(0.99, df = 7, loc = 0, scale = 1)"
   ]
  },
  {
   "cell_type": "code",
   "execution_count": 25,
   "metadata": {},
   "outputs": [
    {
     "data": {
      "text/plain": [
       "-28.869140505722307"
      ]
     },
     "execution_count": 25,
     "metadata": {},
     "output_type": "execute_result"
    }
   ],
   "source": [
    "t.ppf(0.025, df = 13, loc = 0, scale = 1) * 50/np.sqrt(14)"
   ]
  },
  {
   "cell_type": "code",
   "execution_count": null,
   "metadata": {},
   "outputs": [],
   "source": []
  }
 ],
 "metadata": {
  "kernelspec": {
   "display_name": "venv",
   "language": "python",
   "name": "python3"
  },
  "language_info": {
   "codemirror_mode": {
    "name": "ipython",
    "version": 3
   },
   "file_extension": ".py",
   "mimetype": "text/x-python",
   "name": "python",
   "nbconvert_exporter": "python",
   "pygments_lexer": "ipython3",
   "version": "3.8.8"
  },
  "orig_nbformat": 4,
  "vscode": {
   "interpreter": {
    "hash": "78caa81e3627b05c33f6a27e2343475beb68d155d54763802f3d4d62a9b4391c"
   }
  }
 },
 "nbformat": 4,
 "nbformat_minor": 2
}
