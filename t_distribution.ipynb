{
 "cells": [
  {
   "attachments": {},
   "cell_type": "markdown",
   "metadata": {},
   "source": [
    "# The t-distribution\n",
    "\n",
    "Previously, when estimating the confidence interval, we used:\n",
    "\n",
    "$\\hat p$ +/- z* $\\sigma$/sqrt(N), where we estimated the standard error of the mean $\\sigma$ = $\\hat p$ * (1- $\\hat p$)\n",
    "\n",
    "if our statistic was a mean value you would be using:\n",
    "\n",
    "$\\bar x$  +/ z* $\\sigma$/sqrt(N), but we cannot estimate $\\sigma$, so we approximate it with our sample standard deviation (s): <br>\n",
    "\n",
    "$\\bar x$  +/ z* $s$/sqrt(N). <br>\n",
    "\n",
    "But given this severely underestimates our confidence interval, the t-distribution was developed so that the sample standard deviation can be used:\n",
    "\n",
    "$\\bar x$  +/ t* $s$/sqrt(N). <br>\n",
    "\n",
    "Each t-distribution is different depending on the df (degrees of freedom), which is typically sample size - 1\n",
    "\n"
   ]
  },
  {
   "cell_type": "code",
   "execution_count": null,
   "metadata": {},
   "outputs": [],
   "source": []
  }
 ],
 "metadata": {
  "kernelspec": {
   "display_name": "venv",
   "language": "python",
   "name": "python3"
  },
  "language_info": {
   "name": "python",
   "version": "3.8.8"
  },
  "orig_nbformat": 4,
  "vscode": {
   "interpreter": {
    "hash": "78caa81e3627b05c33f6a27e2343475beb68d155d54763802f3d4d62a9b4391c"
   }
  }
 },
 "nbformat": 4,
 "nbformat_minor": 2
}
