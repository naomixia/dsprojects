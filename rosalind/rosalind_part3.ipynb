{
 "cells": [
  {
   "cell_type": "markdown",
   "metadata": {},
   "source": [
    "String algorithms Q8 - "
   ]
  },
  {
   "cell_type": "markdown",
   "metadata": {},
   "source": [
    "https://rosalind.info/problems/lcsm/\n",
    "Given: A collection of k (k≤100) DNA strings of length at most 1 kbp each in FASTA format.\n",
    "\n",
    "Return: A longest common substring of the collection. (If multiple solutions exist, you may return any single solution.)"
   ]
  },
  {
   "cell_type": "code",
   "execution_count": 2,
   "metadata": {},
   "outputs": [],
   "source": [
    "import numpy as np"
   ]
  },
  {
   "cell_type": "code",
   "execution_count": 3,
   "metadata": {},
   "outputs": [],
   "source": [
    "test_data = ['GATTACA', 'TAGACCA', 'ATACA']"
   ]
  },
  {
   "cell_type": "code",
   "execution_count": 31,
   "metadata": {},
   "outputs": [],
   "source": [
    "list_items = []\n",
    "lens = np.zeros(len(test_data)) \n",
    "n=0\n",
    "for key, items in test_data.items():\n",
    "    lens[n] = len(items)\n",
    "    list_items.append(items)\n",
    "    n += 1\n",
    "index = np.argmin(lens)\n"
   ]
  },
  {
   "cell_type": "code",
   "execution_count": 48,
   "metadata": {},
   "outputs": [],
   "source": [
    "test_data_list = list(test_data.values())"
   ]
  },
  {
   "cell_type": "code",
   "execution_count": 49,
   "metadata": {},
   "outputs": [],
   "source": [
    "shortest_seq = test_data_list[index]\n",
    "test_data_list.remove(test_data_list[index])"
   ]
  },
  {
   "cell_type": "code",
   "execution_count": 103,
   "metadata": {},
   "outputs": [],
   "source": [
    "def scan_sequence(shortest_seq):\n",
    "    list_of_sequences = []\n",
    "    for i in range(len(shortest_seq)):\n",
    "        for j in range(i+1,len(shortest_seq)):\n",
    "            list_of_sequences.append(shortest_seq[i:j+1])\n",
    "    return set(list_of_sequences)"
   ]
  },
  {
   "cell_type": "code",
   "execution_count": 106,
   "metadata": {},
   "outputs": [
    {
     "data": {
      "text/plain": [
       "{'AC', 'ACA', 'AT', 'ATA', 'ATAC', 'ATACA', 'CA', 'TA', 'TAC', 'TACA'}"
      ]
     },
     "execution_count": 106,
     "metadata": {},
     "output_type": "execute_result"
    }
   ],
   "source": [
    "scan_sequence(shortest_seq)"
   ]
  },
  {
   "cell_type": "code",
   "execution_count": 108,
   "metadata": {},
   "outputs": [
    {
     "name": "stdout",
     "output_type": "stream",
     "text": [
      "CA\n",
      "\n",
      "2.0\n"
     ]
    }
   ],
   "source": [
    "num_aligned = len(test_data_list)\n",
    "\n",
    "list_of_seq = list(scan_sequence(shortest_seq))\n",
    "for i in range(len(list_of_seq)):   \n",
    "    check_common = list_of_seq[i]\n",
    "    print(check_common)\n",
    "    record_seq = np.zeros(len(test_data_list))\n",
    "    for n in range(len(test_data_list)):\n",
    "        if check_common in test_data_list[n]:\n",
    "            record_seq[n] = 1\n",
    "    num_aligned = sum(record_seq)\n",
    "    if num_aligned < len(shortest_seq):\n",
    "        print(shortest_seq[0:i])\n",
    "        print(num_aligned)   \n",
    "        break            \n"
   ]
  },
  {
   "cell_type": "code",
   "execution_count": 17,
   "metadata": {},
   "outputs": [],
   "source": [
    "import os\n",
    "file_path = os.path.expanduser(\"~/Downloads/rosalind_lcsm.txt\")\n",
    "f = open(file_path, \"r\")\n",
    "sequence = f.read().split(\">\")\n",
    "\n",
    "sequence = sequence[1:]\n",
    "list_of_data = []\n",
    "n=0\n",
    "for s in sequence:\n",
    "    current = s.split(\"\\n\")[1:]\n",
    "    list_of_data.append(''.join(current))\n",
    "    n+=1"
   ]
  },
  {
   "cell_type": "code",
   "execution_count": 19,
   "metadata": {},
   "outputs": [
    {
     "data": {
      "text/plain": [
       "100"
      ]
     },
     "execution_count": 19,
     "metadata": {},
     "output_type": "execute_result"
    }
   ],
   "source": [
    "len(list_of_data)"
   ]
  },
  {
   "cell_type": "code",
   "execution_count": 5,
   "metadata": {},
   "outputs": [],
   "source": [
    "def shared_motif(test_data_list):\n",
    "    shortest_seq = test_data_list[0]\n",
    "    list_of_seq = list(scan_sequence(shortest_seq))\n",
    "    store_motifs = {}\n",
    "    for i in range(len(list_of_seq)):   \n",
    "        check_common = list_of_seq[i]\n",
    "        record_seq = np.zeros(len(test_data_list))\n",
    "        for n in range(len(test_data_list)):\n",
    "            if check_common in test_data_list[n]:\n",
    "                record_seq[n] = 1\n",
    "        num_aligned = sum(record_seq)\n",
    "        if num_aligned == len(test_data_list):\n",
    "            store_motifs[check_common] = len(check_common) \n",
    "    return max(store_motifs, key = lambda x: store_motifs[x])"
   ]
  },
  {
   "cell_type": "code",
   "execution_count": 159,
   "metadata": {},
   "outputs": [
    {
     "data": {
      "text/plain": [
       "'CA'"
      ]
     },
     "execution_count": 159,
     "metadata": {},
     "output_type": "execute_result"
    }
   ],
   "source": [
    "shared_motif(test_data)"
   ]
  },
  {
   "cell_type": "code",
   "execution_count": 158,
   "metadata": {},
   "outputs": [
    {
     "data": {
      "text/plain": [
       "'GCCCCGATCATGGGATCACCAACACAAATATATGGAAGTAATGCGGCAGGGCATGATCTCGGGGTCTGTCAAGGAATTTTCGCTGTACGTGCAAAATTGTTATTGTTTAATGGGGCCTCAATCTAACTTAGTCCGTGGAGAAGCAGATGTTACTTGAGGCTATGTGGG'"
      ]
     },
     "execution_count": 158,
     "metadata": {},
     "output_type": "execute_result"
    }
   ],
   "source": [
    "shared_motif(list_of_data)"
   ]
  },
  {
   "cell_type": "code",
   "execution_count": 6,
   "metadata": {},
   "outputs": [
    {
     "data": {
      "text/plain": [
       "(100, 1000)"
      ]
     },
     "execution_count": 6,
     "metadata": {},
     "output_type": "execute_result"
    }
   ],
   "source": [
    "data_array = np.array([])\n",
    "for s in list_of_data:\n",
    "    reshaped_s = np.array(list(s)).reshape(1,-1)\n",
    "    if data_array.size == 0:\n",
    "        data_array = reshaped_s\n",
    "    else:\n",
    "        data_array = np.vstack((data_array, reshaped_s))\n",
    "data_array.shape"
   ]
  },
  {
   "cell_type": "code",
   "execution_count": 9,
   "metadata": {},
   "outputs": [
    {
     "data": {
      "text/plain": [
       "True"
      ]
     },
     "execution_count": 9,
     "metadata": {},
     "output_type": "execute_result"
    }
   ],
   "source": [
    "test = 'this'\n",
    "sentence = 'pleasetestthis'\n",
    "test in sentence"
   ]
  },
  {
   "cell_type": "code",
   "execution_count": 16,
   "metadata": {},
   "outputs": [
    {
     "name": "stdout",
     "output_type": "stream",
     "text": [
      "2\n",
      "3\n",
      "3\n",
      "4\n"
     ]
    }
   ],
   "source": [
    "for l in [0, 1, 2, 3]:\n",
    "    print((l + 5)//2)"
   ]
  },
  {
   "cell_type": "code",
   "execution_count": 7,
   "metadata": {},
   "outputs": [],
   "source": [
    "def substr_in_all(arr, part): # array is most likely a list or array with str for entire sequence\n",
    "    for dna in arr:\n",
    "        if part not in dna:\n",
    "            return False\n",
    "    return True\n",
    "\n",
    "def common_substr(arr, l):\n",
    "    first = arr[0]\n",
    "    for i in range(len(first) - l + 1):\n",
    "        part = first[i:i + l]\n",
    "        if substr_in_all(arr, part):\n",
    "            return part\n",
    "    return \"\"\n",
    "\n",
    "def longest_common_substr(arr):\n",
    "    l = 0\n",
    "    r = len(arr[0])\n",
    "\n",
    "    while l + 1 < r:\n",
    "        mid = (l + r) // 2 # integer division (rounds down)\n",
    "        if common_substr(arr, mid) != \"\":\n",
    "            l = mid\n",
    "        else:\n",
    "            r = mid\n",
    "\n",
    "    return common_substr(arr, l)"
   ]
  },
  {
   "cell_type": "code",
   "execution_count": 20,
   "metadata": {},
   "outputs": [
    {
     "data": {
      "text/plain": [
       "'GCCCCGATCATGGGATCACCAACACAAATATATGGAAGTAATGCGGCAGGGCATGATCTCGGGGTCTGTCAAGGAATTTTCGCTGTACGTGCAAAATTGTTATTGTTTAATGGGGCCTCAATCTAACTTAGTCCGTGGAGAAGCAGATGTTACTTGAGGCTATGTGGG'"
      ]
     },
     "execution_count": 20,
     "metadata": {},
     "output_type": "execute_result"
    }
   ],
   "source": [
    "longest_common_substr(list_of_data)"
   ]
  },
  {
   "cell_type": "code",
   "execution_count": null,
   "metadata": {},
   "outputs": [],
   "source": []
  }
 ],
 "metadata": {
  "kernelspec": {
   "display_name": "venv",
   "language": "python",
   "name": "python3"
  },
  "language_info": {
   "codemirror_mode": {
    "name": "ipython",
    "version": 3
   },
   "file_extension": ".py",
   "mimetype": "text/x-python",
   "name": "python",
   "nbconvert_exporter": "python",
   "pygments_lexer": "ipython3",
   "version": "3.8.8"
  },
  "orig_nbformat": 4
 },
 "nbformat": 4,
 "nbformat_minor": 2
}
