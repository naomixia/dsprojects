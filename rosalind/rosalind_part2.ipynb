{
 "cells": [
  {
   "attachments": {},
   "cell_type": "markdown",
   "metadata": {},
   "source": [
    "https://rosalind.info/problems/fibd/ <br> \n",
    "Given: Positive integers n≤100\n",
    " and m≤20\n",
    "\n",
    "Return: The total number of pairs of rabbits that will remain after the n\n",
    "-th month if all rabbits live for m\n",
    " months."
   ]
  },
  {
   "cell_type": "code",
   "execution_count": 78,
   "metadata": {},
   "outputs": [],
   "source": [
    "import numpy as np"
   ]
  },
  {
   "cell_type": "code",
   "execution_count": 10,
   "metadata": {},
   "outputs": [
    {
     "name": "stdout",
     "output_type": "stream",
     "text": [
      "(1, 2, 3, 4, 5)\n",
      "(5,)\n"
     ]
    }
   ],
   "source": [
    "test = (1, 2, 3, 4)\n",
    "test2 = test + (5,)\n",
    "print(test2)\n",
    "type(test2)\n",
    "print(test2[-1:])"
   ]
  },
  {
   "cell_type": "code",
   "execution_count": 72,
   "metadata": {},
   "outputs": [],
   "source": [
    "# mature pair of rabbits have 1 pair offspring\n",
    "# rabbits die after 3 months, so if they were born on month n, they are gone by n+3 \n",
    "\n",
    "def rabbit_number(n_months, m_lifespan):\n",
    "    n = 1\n",
    "    prev_young = 0\n",
    "    prev_mature = 0\n",
    "    curr_young = 1\n",
    "    curr_mature = 0 \n",
    "    m_ago_young = [1,0,0,0]\n",
    "    \n",
    "    n = 2\n",
    "    prev_young = 1\n",
    "    prev_mature = 9\n",
    "    curr_young = 0 \n",
    "    m_ago_young =[0,1,0,0,0]\n",
    "    m_ago_young = [0,1,0,0]\n",
    "\n",
    "    for n in list(range(3, n_months+1)): \n",
    "        curr_mature = prev_young + prev_mature\n",
    "        curr_young = prev_mature*1\n",
    "        m_ago_young = [curr_young] + m_ago_young\n",
    "        m_ago_young = m_ago_young[0:m_lifespan + 1]\n",
    "        dead = m_ago_young[-1:][0]\n",
    "        rabbits = curr_young + curr_mature + prev_mature - dead # current young, current mature, dead\n",
    "\n",
    "        prev_mature = curr_mature + prev_mature - dead\n",
    "        prev_young = curr_young \n",
    "       \n",
    "        print(n, rabbits)\n",
    "    return rabbits        \n",
    "\n"
   ]
  },
  {
   "cell_type": "code",
   "execution_count": 73,
   "metadata": {},
   "outputs": [
    {
     "name": "stdout",
     "output_type": "stream",
     "text": [
      "3 28\n",
      "4 65\n",
      "5 157\n",
      "6 370\n"
     ]
    },
    {
     "data": {
      "text/plain": [
       "370"
      ]
     },
     "execution_count": 73,
     "metadata": {},
     "output_type": "execute_result"
    }
   ],
   "source": [
    "rabbit_number(6,3)"
   ]
  },
  {
   "cell_type": "code",
   "execution_count": 75,
   "metadata": {},
   "outputs": [],
   "source": [
    "# start with just prev and new \n",
    "\n",
    "def rabbits_growth(n_month, k_offspring):\n",
    "    n=1 \n",
    "    n=2\n",
    "    rabbit_count = 1\n",
    "    current_mature = 1\n",
    "    current_young = 0\n",
    "\n",
    "    for n in range(3, n_month + 1):\n",
    "        prev_mature = current_mature\n",
    "        newly_mature = current_young\n",
    "        new_rabbit = prev_mature*k_offspring\n",
    "        rabbit_count = prev_mature + newly_mature + new_rabbit\n",
    "\n",
    "        current_mature = prev_mature + newly_mature\n",
    "        current_young = new_rabbit\n",
    "    print(n_month, rabbit_count)"
   ]
  },
  {
   "cell_type": "code",
   "execution_count": 76,
   "metadata": {},
   "outputs": [
    {
     "name": "stdout",
     "output_type": "stream",
     "text": [
      "5 19\n"
     ]
    }
   ],
   "source": [
    "rabbits_growth(5,3)"
   ]
  },
  {
   "cell_type": "code",
   "execution_count": 84,
   "metadata": {},
   "outputs": [],
   "source": [
    "m_lifespan = 3\n",
    "n=1\n",
    "lifespan = [0] * m_lifespan\n",
    "lifespan[0] = 1\n",
    "n=2\n",
    "rabbit_count = 1\n",
    "current_mature = 1\n",
    "current_young = 0\n",
    "lifespan = [1] + lifespan \n",
    "lifespan = lifespan[0:m_lifespan+1]"
   ]
  },
  {
   "cell_type": "code",
   "execution_count": 85,
   "metadata": {},
   "outputs": [
    {
     "data": {
      "text/plain": [
       "[1, 1, 0, 0]"
      ]
     },
     "execution_count": 85,
     "metadata": {},
     "output_type": "execute_result"
    }
   ],
   "source": [
    "lifespan"
   ]
  },
  {
   "cell_type": "code",
   "execution_count": 90,
   "metadata": {},
   "outputs": [],
   "source": [
    "# now add the death \n",
    "def rabbits_growh_with_death(n_month, k_offspring, m_lifespan):\n",
    "    n=1\n",
    "    lifespan = [0] * m_lifespan\n",
    "    lifespan[0] = 1\n",
    "    n=2\n",
    "    rabbit_count = 1\n",
    "    current_mature = 1\n",
    "    current_young = 0\n",
    "    lifespan = [0] + lifespan \n",
    "    lifespan = lifespan[0:m_lifespan+1]\n",
    "\n",
    "    for n in range(3, n_month + 1):\n",
    "        prev_mature = current_mature\n",
    "        newly_mature = current_young\n",
    "        new_rabbit = prev_mature*k_offspring\n",
    "\n",
    "        lifespan = [new_rabbit] + lifespan\n",
    "        lifespan = lifespan[0:m_lifespan+1]\n",
    "        death = lifespan[-1:][0]\n",
    "        \n",
    "        rabbit_count = prev_mature + newly_mature + new_rabbit - death\n",
    "        \n",
    "        current_mature = prev_mature + newly_mature - death\n",
    "        current_young = new_rabbit\n",
    "        \n",
    "        print(n, rabbit_count)\n",
    "    return(n_month, rabbit_count)   "
   ]
  },
  {
   "cell_type": "code",
   "execution_count": 91,
   "metadata": {},
   "outputs": [
    {
     "name": "stdout",
     "output_type": "stream",
     "text": [
      "3 2\n",
      "4 2\n",
      "5 3\n",
      "6 4\n"
     ]
    },
    {
     "data": {
      "text/plain": [
       "(6, 4)"
      ]
     },
     "execution_count": 91,
     "metadata": {},
     "output_type": "execute_result"
    }
   ],
   "source": [
    "rabbits_growh_with_death(6, 1, 3)"
   ]
  },
  {
   "cell_type": "code",
   "execution_count": 99,
   "metadata": {},
   "outputs": [],
   "source": [
    "import os\n",
    "file_path = os.path.expanduser(\"~/Downloads/rosalind_fibd.txt\")\n",
    "f = open(file_path, \"r\")\n",
    "sequence = f.read().rstrip(\"\\n\")"
   ]
  },
  {
   "cell_type": "code",
   "execution_count": 100,
   "metadata": {},
   "outputs": [
    {
     "data": {
      "text/plain": [
       "'98 18'"
      ]
     },
     "execution_count": 100,
     "metadata": {},
     "output_type": "execute_result"
    }
   ],
   "source": [
    "sequence"
   ]
  },
  {
   "cell_type": "code",
   "execution_count": 106,
   "metadata": {},
   "outputs": [
    {
     "data": {
      "text/plain": [
       "['98', '18']"
      ]
     },
     "execution_count": 106,
     "metadata": {},
     "output_type": "execute_result"
    }
   ],
   "source": [
    "sequence.split(' ')"
   ]
  },
  {
   "cell_type": "code",
   "execution_count": 107,
   "metadata": {},
   "outputs": [
    {
     "data": {
      "text/plain": [
       "98"
      ]
     },
     "execution_count": 107,
     "metadata": {},
     "output_type": "execute_result"
    }
   ],
   "source": [
    "int(sequence.split(' ')[0])"
   ]
  },
  {
   "cell_type": "code",
   "execution_count": null,
   "metadata": {},
   "outputs": [],
   "source": [
    "rabbits_growh_with_death(int(sequence[0]), 1, 18)"
   ]
  },
  {
   "cell_type": "code",
   "execution_count": 101,
   "metadata": {},
   "outputs": [
    {
     "name": "stdout",
     "output_type": "stream",
     "text": [
      "3 2\n",
      "4 3\n",
      "5 5\n",
      "6 8\n",
      "7 13\n",
      "8 21\n",
      "9 34\n",
      "10 55\n",
      "11 89\n",
      "12 144\n",
      "13 233\n",
      "14 377\n",
      "15 610\n",
      "16 987\n",
      "17 1597\n",
      "18 2584\n",
      "19 4180\n",
      "20 6763\n",
      "21 10942\n",
      "22 17703\n",
      "23 28642\n",
      "24 46340\n",
      "25 74974\n",
      "26 121301\n",
      "27 196254\n",
      "28 317521\n",
      "29 513720\n",
      "30 831152\n",
      "31 1344728\n",
      "32 2175647\n",
      "33 3519998\n",
      "34 5695035\n",
      "35 9214046\n",
      "36 14907484\n",
      "37 24118946\n",
      "38 39022250\n",
      "39 63134433\n",
      "40 102145741\n",
      "41 165262471\n",
      "42 267379570\n",
      "43 432595701\n",
      "44 699900297\n",
      "45 1132374697\n",
      "46 1832078740\n",
      "47 2964135916\n",
      "48 4795700936\n",
      "49 7759005700\n",
      "50 12553361908\n",
      "51 20310191961\n",
      "52 32860033871\n",
      "53 53164530797\n",
      "54 86015350622\n",
      "55 139164973935\n",
      "56 225156205611\n",
      "57 364282157296\n",
      "58 589375228474\n",
      "59 953555240029\n",
      "60 1542765206032\n",
      "61 2496053066491\n",
      "62 4038385676822\n",
      "63 6533738843016\n",
      "64 10570992145141\n",
      "65 17102898909417\n",
      "66 27670926918642\n",
      "67 44769030127123\n",
      "68 72432198040065\n",
      "69 117188674805280\n",
      "70 189600562653384\n",
      "71 306756377424793\n",
      "72 496303775547380\n",
      "73 802974137621551\n",
      "74 1299138748194996\n",
      "75 2101887729610936\n",
      "76 3400662195648636\n",
      "77 5501960550031098\n",
      "78 8901669190439705\n",
      "79 14402086975264771\n",
      "80 23301260112637985\n",
      "81 37699308702225934\n",
      "82 60994035076020903\n",
      "83 98682772786101696\n",
      "84 159659704963213182\n",
      "85 258314806822396236\n",
      "86 417929742755482295\n",
      "87 676172117379838466\n",
      "88 1093984671460515481\n",
      "89 1769967188277700563\n",
      "90 2863645103360791251\n",
      "91 4633115987862944434\n",
      "92 7495958117086114134\n",
      "93 12127774966200863572\n",
      "94 19621631195557366770\n",
      "95 31746005499562581706\n",
      "96 51362134734569917378\n",
      "97 83099238564942059379\n",
      "98 134446971212536711986\n"
     ]
    },
    {
     "data": {
      "text/plain": [
       "(98, 134446971212536711986)"
      ]
     },
     "execution_count": 101,
     "metadata": {},
     "output_type": "execute_result"
    }
   ],
   "source": [
    "rabbits_growh_with_death(98, 1, 18)"
   ]
  },
  {
   "attachments": {},
   "cell_type": "markdown",
   "metadata": {},
   "source": [
    "Recursion vs Dynamic programming"
   ]
  },
  {
   "cell_type": "code",
   "execution_count": null,
   "metadata": {},
   "outputs": [],
   "source": [
    "# Recursive solution:\n",
    "# running time is worse than O(n) because in order to calculate fib(3), you need to calculate fib(2) etc\n",
    "def fib(n,k=1):\n",
    "    if n == 1:\n",
    "        return 1\n",
    "    if n == 2:\n",
    "        return 1\n",
    "    return fib(n-1, k) + k * fib(n-2, k)"
   ]
  },
  {
   "attachments": {},
   "cell_type": "markdown",
   "metadata": {},
   "source": [
    "alternative is to use dynamic programming where you can use memoization. Memoization is a technique that stores the results of expensive function calls and reuses them when the same inputs occur again, instead of recalculating them."
   ]
  },
  {
   "cell_type": "code",
   "execution_count": 1,
   "metadata": {},
   "outputs": [],
   "source": [
    "memo = {}\n",
    "def fib(n,k=1):\n",
    "    args = (n, k)\n",
    "    if args in memo:\n",
    "        return memo[args]  # Aha! We have computed this before!\n",
    "\n",
    "    # We haven't computed this before, so we do it now\n",
    "    if n == 1:\n",
    "        ans = 1\n",
    "    elif n == 2:\n",
    "        ans = 1\n",
    "    else:\n",
    "        ans = fib(n-1, k) + k * fib(n-2, k)\n",
    "    memo[args] = ans  # don't forget to remember the result!\n",
    "    return ans"
   ]
  },
  {
   "cell_type": "code",
   "execution_count": null,
   "metadata": {},
   "outputs": [],
   "source": [
    "def getChilds(n, m): #find child population Cn\n",
    "    if (n < 1):\n",
    "        return 0\n",
    "    else:\n",
    "        if (n == 1):\n",
    "            return 1\n",
    "        else:\n",
    "            sumChild = 0\n",
    "            for i in xrange(2, m + 1):\n",
    "                sumChild += getChilds(n - i, m)\n",
    "            return sumChild\n",
    "\n",
    "def getPop(n, m): #find current population Fn\n",
    "    return getChilds(n, m) + getChilds(n + 1, m) # Cn + Cn+1"
   ]
  },
  {
   "cell_type": "code",
   "execution_count": 4,
   "metadata": {},
   "outputs": [
    {
     "name": "stdout",
     "output_type": "stream",
     "text": [
      "134446971212536711986\n"
     ]
    }
   ],
   "source": [
    "#!/usr/bin/python\n",
    "#Mortal Fib\n",
    "n=98\n",
    "k=18\n",
    "f=[1]*100\n",
    "for i in range(2,n):\n",
    "  f[i]=f[i-1]+f[i-2]\n",
    "  if i>=k:\n",
    "    f[i]-=f[(i-k)-1]  \n",
    "print(f[i])"
   ]
  },
  {
   "cell_type": "code",
   "execution_count": 15,
   "metadata": {},
   "outputs": [],
   "source": [
    "def wabbit(era, die):\n",
    "    pop = [1, 0]\n",
    "    month = 1\n",
    "    while month < era:\n",
    "        pop.insert(0, sum(pop[1:die]))\n",
    "        month += 1\n",
    "        print(pop)\n",
    "    print(sum(pop[0:die]))"
   ]
  },
  {
   "cell_type": "code",
   "execution_count": 16,
   "metadata": {},
   "outputs": [
    {
     "name": "stdout",
     "output_type": "stream",
     "text": [
      "[0, 1, 0]\n",
      "[1, 0, 1, 0]\n",
      "[1, 1, 0, 1, 0]\n",
      "[1, 1, 1, 0, 1, 0]\n",
      "[2, 1, 1, 1, 0, 1, 0]\n",
      "4\n"
     ]
    }
   ],
   "source": [
    "wabbit(6,3)"
   ]
  },
  {
   "cell_type": "code",
   "execution_count": 13,
   "metadata": {},
   "outputs": [
    {
     "data": {
      "text/plain": [
       "[5, 4, 3, 2, 2, 1, 1, 1, 0, 1, 0]"
      ]
     },
     "execution_count": 13,
     "metadata": {},
     "output_type": "execute_result"
    }
   ],
   "source": [
    "era = 6\n",
    "die = 3 \n",
    "pop = [1,0]\n",
    "month = 1\n",
    "pop.insert(0, sum(pop[1:3]))\n",
    "pop\n",
    "month += 1\n",
    "pop.insert(0, sum(pop[1:3]))\n",
    "pop.insert(0, sum(pop[1:3]))\n",
    "pop.insert(0, sum(pop[1:3]))\n",
    "pop.insert(0, sum(pop[1:3]))\n",
    "pop.insert(0, sum(pop[1:3]))\n",
    "pop.insert(0, sum(pop[1:3]))\n",
    "pop.insert(0, sum(pop[1:3]))\n",
    "pop.insert(0, sum(pop[1:3]))\n",
    "\n",
    "pop\n"
   ]
  },
  {
   "cell_type": "code",
   "execution_count": 6,
   "metadata": {},
   "outputs": [
    {
     "name": "stdout",
     "output_type": "stream",
     "text": [
      "134446971212536711986\n"
     ]
    }
   ],
   "source": [
    "wabbit(98,18)"
   ]
  },
  {
   "cell_type": "code",
   "execution_count": null,
   "metadata": {},
   "outputs": [],
   "source": []
  }
 ],
 "metadata": {
  "kernelspec": {
   "display_name": "venv",
   "language": "python",
   "name": "python3"
  },
  "language_info": {
   "codemirror_mode": {
    "name": "ipython",
    "version": 3
   },
   "file_extension": ".py",
   "mimetype": "text/x-python",
   "name": "python",
   "nbconvert_exporter": "python",
   "pygments_lexer": "ipython3",
   "version": "3.8.8"
  },
  "orig_nbformat": 4
 },
 "nbformat": 4,
 "nbformat_minor": 2
}
