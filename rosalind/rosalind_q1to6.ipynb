{
 "cells": [
  {
   "attachments": {},
   "cell_type": "markdown",
   "metadata": {},
   "source": [
    "# Rosalind Problems"
   ]
  },
  {
   "attachments": {},
   "cell_type": "markdown",
   "metadata": {},
   "source": [
    "1. A string is simply an ordered collection of symbols selected from some alphabet and formed into a word; the length of a string is the number of symbols that it contains.\n",
    "\n",
    "An example of a length 21 DNA string (whose alphabet contains the symbols 'A', 'C', 'G', and 'T') is \"ATGCTTCAGAAAGGTCTTACG.\"\n",
    "\n",
    "Given: A DNA string s\n",
    " of length at most 1000 nt.\n",
    "\n",
    "Return: Four integers (separated by spaces) counting the respective number of times that the symbols 'A', 'C', 'G', and 'T' occur in s\n"
   ]
  },
  {
   "cell_type": "code",
   "execution_count": 47,
   "metadata": {},
   "outputs": [],
   "source": [
    "import os\n",
    "\n",
    "file_path = os.path.expanduser(\"~/Downloads/rosalind_dna.txt\")\n",
    "f = open(file_path, \"r\")\n",
    "sequence = f.read().rstrip(\"\\n\")"
   ]
  },
  {
   "cell_type": "code",
   "execution_count": 48,
   "metadata": {},
   "outputs": [
    {
     "data": {
      "text/plain": [
       "824"
      ]
     },
     "execution_count": 48,
     "metadata": {},
     "output_type": "execute_result"
    }
   ],
   "source": [
    "len(sequence)"
   ]
  },
  {
   "cell_type": "code",
   "execution_count": 49,
   "metadata": {},
   "outputs": [],
   "source": [
    "def count_nucleotides(sequence):\n",
    "    count_tb = [0, 0, 0, 0]\n",
    "    for n in range(len(sequence)):\n",
    "        if sequence[n] == 'A':\n",
    "            count_tb[0] += 1\n",
    "        elif sequence[n] == 'C':\n",
    "            count_tb[1] += 1\n",
    "        elif sequence[n] == 'G':\n",
    "            count_tb[2] += 1 \n",
    "        elif sequence[n] == 'T':\n",
    "            count_tb[3] += 1\n",
    "    return count_tb"
   ]
  },
  {
   "cell_type": "code",
   "execution_count": 34,
   "metadata": {},
   "outputs": [],
   "source": [
    "def count_letter(word, charA, charC, charG, charT) :\n",
    "\tcountA = 0\n",
    "\tcountC = 0\n",
    "\tcountG = 0\n",
    "\tcountT = 0\n",
    "\tfor A in word:\n",
    "\t\tcountA += (charA == A)\n",
    "\tfor C in word:\n",
    "\t\tcountC += (charC == C)\n",
    "\tfor G in word:\n",
    "\t\tcountG += (charG == G)\n",
    "\tfor T in word:\n",
    "\t\tcountT += (charT == T)\n",
    "\treturn countA, countC, countG, countT"
   ]
  },
  {
   "cell_type": "code",
   "execution_count": 50,
   "metadata": {},
   "outputs": [
    {
     "data": {
      "text/plain": [
       "'CAGAAATAACTCTAAAATTATACTGTGATAGCGGGATATCACGGCGGTACCAACGGGAGTAAGCCAGCAGTACCAGCTGTTGTCCTTAGGACGAGCTGCATTAAGGCTAGGGCTGTACTTAGTCTTTTAGTGGGCCAGTCTTGTTAGGGGTACGATTGCCGAGCTGATATAGGGTTCGAGGTGCGCATCCAAGAAGGGGAATCAATACGCTGGCTACCCCTAAGACTCAGACTTAGACCGTAGCTGTGCAATAACCAAGGCAACGATTGGCTGACTCTCGTAACGGTTGCGTTGGACAACAACCCTTTCGTCGACCGATAGCTTAGCAAACCACAGAAGTTTCCGAGTGGGTAGTACGGGCTCTAGAACAGGAGTACGGACAAGGGTTAAAACTGCTTACGCCAGTAGCCGATTACAGACGAGCTGCATTCCCTTAAGGTCGAAGCCCTCACGTGAACCTCGTCCGTAAGAGCAGGTCGCCCGTCTTAGTAGCACGACGGACTGTATGGTGCATAGTGCGCTTTCGAACGGAACCTATGCGCGCGGGTGATTGCGGCCCAGCGTCTGTCCGGTGCCGGATTTGTACCAATGTGCTTGACAGTGGTCGAAACATAAAAAAGTCTTTTATAGTTTCTTCACAGTCCAATCAACATGTCCACATGTTCAACGAAAATACAGAGTGTTCCTGACATCAAGTATTCGAGTTTTGCTGCGTCAGCATGATAGACAGCGACATAAGAGGCAAGCATGGTATTTTGATCACTTGATGCCATAGAATGCACGAGGATCTTAGCCTACACTTTACTTATTACAGTGTGACAGCC'"
      ]
     },
     "execution_count": 50,
     "metadata": {},
     "output_type": "execute_result"
    }
   ],
   "source": [
    "sequence"
   ]
  },
  {
   "cell_type": "code",
   "execution_count": 51,
   "metadata": {},
   "outputs": [
    {
     "data": {
      "text/plain": [
       "[220, 190, 213, 201]"
      ]
     },
     "execution_count": 51,
     "metadata": {},
     "output_type": "execute_result"
    }
   ],
   "source": [
    "count_nucleotides(sequence)"
   ]
  },
  {
   "cell_type": "code",
   "execution_count": 52,
   "metadata": {},
   "outputs": [
    {
     "data": {
      "text/plain": [
       "(220, 190, 213, 201)"
      ]
     },
     "execution_count": 52,
     "metadata": {},
     "output_type": "execute_result"
    }
   ],
   "source": [
    "count_letter(sequence, 'A', 'C', 'G', 'T')"
   ]
  },
  {
   "cell_type": "code",
   "execution_count": 33,
   "metadata": {},
   "outputs": [
    {
     "data": {
      "text/plain": [
       "813"
      ]
     },
     "execution_count": 33,
     "metadata": {},
     "output_type": "execute_result"
    }
   ],
   "source": [
    "sum(count_nucleotides(sequence))"
   ]
  },
  {
   "cell_type": "code",
   "execution_count": 22,
   "metadata": {},
   "outputs": [
    {
     "data": {
      "text/plain": [
       "[20, 12, 17, 21]"
      ]
     },
     "execution_count": 22,
     "metadata": {},
     "output_type": "execute_result"
    }
   ],
   "source": [
    "test = \"AGCTTTTCATTCTGACTGCAACGGGCAATATGTCTCTGTGTGGATTAAAAAAAGAGTGTCTGATAGCAGC\"\n",
    "count_nucleotides(test)"
   ]
  },
  {
   "attachments": {},
   "cell_type": "markdown",
   "metadata": {},
   "source": [
    "2. An RNA string is a string formed from the alphabet containing 'A', 'C', 'G', and 'U'.\n",
    "\n",
    "Given a DNA string t\n",
    " corresponding to a coding strand, its transcribed RNA string u\n",
    " is formed by replacing all occurrences of 'T' in t\n",
    " with 'U' in u\n",
    "\n",
    "Given: A DNA string t\n",
    " having length at most 1000 nt.\n",
    "\n",
    "Return: The transcribed RNA string of t\n"
   ]
  },
  {
   "cell_type": "code",
   "execution_count": 57,
   "metadata": {},
   "outputs": [],
   "source": [
    "test = \"GATGGAACTTGACTACGTAAATT\"\n",
    "output = \"GAUGGAACUUGACUACGUAAAUU\""
   ]
  },
  {
   "cell_type": "code",
   "execution_count": 63,
   "metadata": {},
   "outputs": [],
   "source": [
    "file_path = os.path.expanduser(\"~/Downloads/rosalind_rna.txt\")\n",
    "f = open(file_path, \"r\")\n",
    "sequence = f.read().rstrip(\"\\n\")"
   ]
  },
  {
   "cell_type": "code",
   "execution_count": 64,
   "metadata": {},
   "outputs": [
    {
     "data": {
      "text/plain": [
       "'CCTCGGTCGACCCTGCTGGCCCCAAGATTATACAGCTGCTGAGGTCCCGACGAACGCAATAGTAAACCTATAACCGTTATTACTCGAAGTAATCTTGTCTACTTGGCGTATCCCAGGTCCGTTCGGATGTTGACTTGCATATCTAATGTGTTAGGACAGACTTACCATGACCCCCCCAATATGACTTGAGAGATGTGCTTCGGATGTATGTGTCCGATACCAAACTAGGCTATGCGAATGGACGTTCGCAAGCATATGTCGCGTAAGCGTCGGAATTTCGGTTTAGGAGAGCGATTCACTTGTTTCACCAACGTTGTTAACTCAGTGATGCTGAGGCCCATGCAAAACATCCTTTTATTCGCAACAATCTTACTCAACCGTCCTCCGTATCAACTGTTTCCGGGTATATAACAGCGGAAGTCAACGCAATTACGACTACGGTGGGTACATGCCAGAGGTGTTCGCCACTCGTTAATTCCCAAGACAGGGGAGAGGGCAAAGACTCTTCGCAATCTCACGCTGACGGCTGCAATTTTGCCGGATAGAGAGGGTACCTTATAACTCGTTGACCCGCAGACCTGAGTTCCATGAAACTCCGGCTGATTGCCATCCGTGACTAGACGAAGTGTTACTGGCGAATGGGCGGTACTCGGCAGTATACAGGAGCTGGTAGCGATATCGTTGACTGAACCGGCACTAGAGGTATCCTGGTGAAGGGACCGGATTGAAAGCTACTCATAACACGGACCGTGCTTGGTGACTTTCCGCGTTCACGGCTGCGTCTGAATGTCTAAAGGAATCTTCACGCATTCACCTAATCTCTGGACTCGACCTGTCTGGCACCCGCGGCATGAGGGCTTCCCATTTTTGTCTGAATCGAGATCTCCCATACACCTTTGCCG'"
      ]
     },
     "execution_count": 64,
     "metadata": {},
     "output_type": "execute_result"
    }
   ],
   "source": [
    "sequence"
   ]
  },
  {
   "cell_type": "code",
   "execution_count": 65,
   "metadata": {},
   "outputs": [],
   "source": [
    "def transcribe_RNA(seq): \n",
    "    tseq = []\n",
    "    for n in range(len(seq)):\n",
    "        if seq[n] == \"T\":\n",
    "            tseq.append('U')\n",
    "        else:\n",
    "            tseq.append(seq[n])\n",
    "    return \"\".join(tseq)"
   ]
  },
  {
   "cell_type": "code",
   "execution_count": 67,
   "metadata": {},
   "outputs": [
    {
     "data": {
      "text/plain": [
       "'CCUCGGUCGACCCUGCUGGCCCCAAGAUUAUACAGCUGCUGAGGUCCCGACGAACGCAAUAGUAAACCUAUAACCGUUAUUACUCGAAGUAAUCUUGUCUACUUGGCGUAUCCCAGGUCCGUUCGGAUGUUGACUUGCAUAUCUAAUGUGUUAGGACAGACUUACCAUGACCCCCCCAAUAUGACUUGAGAGAUGUGCUUCGGAUGUAUGUGUCCGAUACCAAACUAGGCUAUGCGAAUGGACGUUCGCAAGCAUAUGUCGCGUAAGCGUCGGAAUUUCGGUUUAGGAGAGCGAUUCACUUGUUUCACCAACGUUGUUAACUCAGUGAUGCUGAGGCCCAUGCAAAACAUCCUUUUAUUCGCAACAAUCUUACUCAACCGUCCUCCGUAUCAACUGUUUCCGGGUAUAUAACAGCGGAAGUCAACGCAAUUACGACUACGGUGGGUACAUGCCAGAGGUGUUCGCCACUCGUUAAUUCCCAAGACAGGGGAGAGGGCAAAGACUCUUCGCAAUCUCACGCUGACGGCUGCAAUUUUGCCGGAUAGAGAGGGUACCUUAUAACUCGUUGACCCGCAGACCUGAGUUCCAUGAAACUCCGGCUGAUUGCCAUCCGUGACUAGACGAAGUGUUACUGGCGAAUGGGCGGUACUCGGCAGUAUACAGGAGCUGGUAGCGAUAUCGUUGACUGAACCGGCACUAGAGGUAUCCUGGUGAAGGGACCGGAUUGAAAGCUACUCAUAACACGGACCGUGCUUGGUGACUUUCCGCGUUCACGGCUGCGUCUGAAUGUCUAAAGGAAUCUUCACGCAUUCACCUAAUCUCUGGACUCGACCUGUCUGGCACCCGCGGCAUGAGGGCUUCCCAUUUUUGUCUGAAUCGAGAUCUCCCAUACACCUUUGCCG'"
      ]
     },
     "execution_count": 67,
     "metadata": {},
     "output_type": "execute_result"
    }
   ],
   "source": [
    "transcribe_RNA(sequence)"
   ]
  },
  {
   "attachments": {},
   "cell_type": "markdown",
   "metadata": {},
   "source": [
    "3. In DNA strings, symbols 'A' and 'T' are complements of each other, as are 'C' and 'G'.\n",
    "\n",
    "The reverse complement of a DNA string s\n",
    " is the string sc\n",
    " formed by reversing the symbols of s\n",
    ", then taking the complement of each symbol (e.g., the reverse complement of \"GTCA\" is \"TGAC\").\n",
    "\n",
    "Given: A DNA string s\n",
    " of length at most 1000 bp.\n",
    "\n",
    "Return: The reverse complement sc\n",
    " of s\n",
    "."
   ]
  },
  {
   "cell_type": "code",
   "execution_count": 70,
   "metadata": {},
   "outputs": [],
   "source": [
    "# GTCA\n",
    "# CAGT take complement\n",
    "# TGAC reverse\n",
    "file_path = os.path.expanduser(\"~/Downloads/rosalind_revc.txt\")\n",
    "f = open(file_path, \"r\")\n",
    "sequence = f.read().rstrip(\"\\n\")\n",
    "\n",
    "def reverse_complement(seq): \n",
    "    comp = [] \n",
    "    for n in range(len(seq)):\n",
    "        if seq[n] == \"A\":\n",
    "            comp.append(\"T\")\n",
    "        elif seq[n] == \"T\":\n",
    "            comp.append(\"A\")\n",
    "        elif seq[n] == \"C\":\n",
    "            comp.append(\"G\")\n",
    "        elif seq[n] == \"G\":\n",
    "            comp.append(\"C\")\n",
    "    comp = \"\".join(comp)\n",
    "    return comp[::-1]"
   ]
  },
  {
   "cell_type": "code",
   "execution_count": 75,
   "metadata": {},
   "outputs": [
    {
     "name": "stdout",
     "output_type": "stream",
     "text": [
      "TTGTGCGCCTCCTATTTTATCCAGTTAGGAGATAGTGTCGTGAGATATCACGCGTCGGGTCATGTCCCCACTGCCCATCGTGAGTACTACTTTGACACACCCACAACATTTTTACGACACTAGGTTTGGATTCCAGGGGCCGGGCTTTTGTGGTACTTGGAGTAAATAGCGTTCAAAGCAGCATTTTACTATCTGTGTGACTCTGTCCGCGGACTTATTCGCGGGCTGTAGAGCGTGGGCGCTATGCTCCAAAGCTGAGGGTGTGTTATCATGGCGTGCTGCGTCCGTTACCCAAGTGTTCTCGCGATTGCAGACCCGAGCTTTACCTTTGCACCAACCTCTGATTAAGTGAGTTTTGTATAAGTCAATTCTGCCTGTTGTCTCCTTTACAAGAGCTGAAATTTGGACGCTCCCCAGAGACTCTATTGTATTCCCGTTGCCGGTCTTGAGTGTAAAGGATGACTCCTACAGACGTCCAATCAAAGCGTTACACTCATGAGTGTCTGAAGTTTGAGGGTTACCTGGATGAGGTACGAAGAGGGTGATACAACGGCTTATAGACCGTAGCCACCTATATAGGTCCGCCACAAAGGACCGCCAGGAGTCATACAGCTCCATATATTTGATTGTCCTTTAGGTACCCAGGAGGCAGAAACCATCAAAATCACGTTAAATCTCTATAGACAAGCAAGACTCTTGCATCAGCCACAAATGCAGGGACGGAGAAAAGACGGTCCGCGGATACTATGATATGAATAAGGACTGAGCATGTCGCGGGGTAGCCTGGCCTATCCGACATAATCTATGATTCGTGTGCTAGGGAGTCAGCAACAATGATTTCCTTCCAACGAGTA\n"
     ]
    }
   ],
   "source": [
    "print(reverse_complement(sequence))"
   ]
  },
  {
   "cell_type": "code",
   "execution_count": 72,
   "metadata": {},
   "outputs": [
    {
     "data": {
      "text/plain": [
       "'TACTCGTTGGAAGGAAATCATTGTTGCTGACTCCCTAGCACACGAATCATAGATTATGTCGGATAGGCCAGGCTACCCCGCGACATGCTCAGTCCTTATTCATATCATAGTATCCGCGGACCGTCTTTTCTCCGTCCCTGCATTTGTGGCTGATGCAAGAGTCTTGCTTGTCTATAGAGATTTAACGTGATTTTGATGGTTTCTGCCTCCTGGGTACCTAAAGGACAATCAAATATATGGAGCTGTATGACTCCTGGCGGTCCTTTGTGGCGGACCTATATAGGTGGCTACGGTCTATAAGCCGTTGTATCACCCTCTTCGTACCTCATCCAGGTAACCCTCAAACTTCAGACACTCATGAGTGTAACGCTTTGATTGGACGTCTGTAGGAGTCATCCTTTACACTCAAGACCGGCAACGGGAATACAATAGAGTCTCTGGGGAGCGTCCAAATTTCAGCTCTTGTAAAGGAGACAACAGGCAGAATTGACTTATACAAAACTCACTTAATCAGAGGTTGGTGCAAAGGTAAAGCTCGGGTCTGCAATCGCGAGAACACTTGGGTAACGGACGCAGCACGCCATGATAACACACCCTCAGCTTTGGAGCATAGCGCCCACGCTCTACAGCCCGCGAATAAGTCCGCGGACAGAGTCACACAGATAGTAAAATGCTGCTTTGAACGCTATTTACTCCAAGTACCACAAAAGCCCGGCCCCTGGAATCCAAACCTAGTGTCGTAAAAATGTTGTGGGTGTGTCAAAGTAGTACTCACGATGGGCAGTGGGGACATGACCCGACGCGTGATATCTCACGACACTATCTCCTAACTGGATAAAATAGGAGGCGCACAA'"
      ]
     },
     "execution_count": 72,
     "metadata": {},
     "output_type": "execute_result"
    }
   ],
   "source": [
    "sequence"
   ]
  },
  {
   "attachments": {},
   "cell_type": "markdown",
   "metadata": {},
   "source": [
    "4. The GC-content of a DNA string is given by the percentage of symbols in the string that are 'C' or 'G'. For example, the GC-content of \"AGCTATAG\" is 37.5%. Note that the reverse complement of any DNA string has the same GC-content.\n",
    "\n",
    "DNA strings must be labeled when they are consolidated into a database. A commonly used method of string labeling is called FASTA format. In this format, the string is introduced by a line that begins with '>', followed by some labeling information. Subsequent lines contain the string itself; the first line to begin with '>' indicates the label of the next string.\n",
    "\n",
    "In Rosalind's implementation, a string in FASTA format will be labeled by the ID \"Rosalind_xxxx\", where \"xxxx\" denotes a four-digit code between 0000 and 9999.\n",
    "\n",
    "Given: At most 10 DNA strings in FASTA format (of length at most 1 kbp each).\n",
    "\n",
    "Return: The ID of the string having the highest GC-content, followed by the GC-content of that string. Rosalind allows for a default error of 0.001 in all decimal answers unless otherwise stated; please see the note on absolute error below.\n",
    "\n"
   ]
  },
  {
   "cell_type": "code",
   "execution_count": 87,
   "metadata": {},
   "outputs": [],
   "source": [
    "test = {'data1' : \"AGCTATAG\", 'data2' : \"AGGGGCCCCCAAT\"}"
   ]
  },
  {
   "cell_type": "code",
   "execution_count": 135,
   "metadata": {},
   "outputs": [],
   "source": [
    "def GC_content(seq):\n",
    "    count_GC = 0\n",
    "    for n in range(len(seq)):\n",
    "        if seq[n] in [\"G\", \"C\"]:\n",
    "            count_GC += 1\n",
    "    return count_GC/len(seq)\n",
    "\n",
    "def compare_GC_content(seq_dict):\n",
    "    count_GC_dict = {}\n",
    "    for key, value in seq_dict.items():\n",
    "        count_GC_dict[key] = GC_content(value)\n",
    "    maxGC = max(count_GC_dict.values())*100\n",
    "    keymaxGC =  max(count_GC_dict, key=lambda key: count_GC_dict[key])\n",
    "    return keymaxGC, maxGC"
   ]
  },
  {
   "cell_type": "code",
   "execution_count": 97,
   "metadata": {},
   "outputs": [
    {
     "data": {
      "text/plain": [
       "('data2', 0.6923076923076923)"
      ]
     },
     "execution_count": 97,
     "metadata": {},
     "output_type": "execute_result"
    }
   ],
   "source": [
    "compare_GC_content(test)"
   ]
  },
  {
   "cell_type": "code",
   "execution_count": 137,
   "metadata": {},
   "outputs": [],
   "source": [
    "file_path = os.path.expanduser(\"~/Downloads/rosalind_gc.txt\")\n",
    "f = open(file_path, \"r\")\n",
    "sequence = f.read().rstrip(\"\\n\").split(\">\")"
   ]
  },
  {
   "cell_type": "code",
   "execution_count": 138,
   "metadata": {},
   "outputs": [],
   "source": [
    "sequence_dict = {}\n",
    "for s in range(len(sequence)):\n",
    "    if sequence[s] != \"\":\n",
    "        line = sequence[s].split(\"\\n\")\n",
    "        sequence_dict[line[0]] = \"\".join(line[1:])\n",
    "\n"
   ]
  },
  {
   "cell_type": "code",
   "execution_count": 139,
   "metadata": {},
   "outputs": [
    {
     "data": {
      "text/plain": [
       "{'Rosalind_5042': 'GTCAATTTATAGGGTTGATGTAGGACACTTCCGCCTGGGCTGCGGTTTACTCATAGTTGTTGGAACAGAGAGGTAGTCTACTGTAGCAAGCGCAGGAGAGCACCGGTTAGTATTGGGGATTAGCAGTCGACTAACAAATTAATAGCTTGATGCGATGCTAAGTATGTGTAACCGACGGGTTTCGGGTGGCCCCGTTGCTCTTTACACAAGCGTGTCCCAAAATATTAATTTGTAACAATACAAACAATAAATCATGTTGATAGCTAAGTACCACTCAGGGGTGTAAGTTTTTTATTGGTCCGTCCCGGCCCTGACACTGCCCATGAGTCTGGCCTATGATATAGTTCTAGTACGGAGCCGTCTCGTTTGCACTTGTTCGATCTCCAATCTGTTTGTGCTCTTCTGATTACCGTGGCTGGACTCTACCGGACATGCTCATACATGTCATGGTTTCGTTCAAGGCAAACATTACTGGTATTTCACGGCGGTCGAGATGCCGGCCCCATCCATGGCAGATAGCAGGAGGTCCTGATTCGATCGAAGCTTTCCCGCAAATACAAGACTGTAAGGCCGGACTGTAACTAGGCCTGAATGAACATATCCAATTAATTAGTCATAGGTGATGCCTGTTACATGGTGGTCGTTAAAAGAGTATTTCGTGAGGCCCCAAGTTCCATTCGGTCAGAGTCAGATGACATGTTGAATCCGCAATGGCGCACCCCGATCACATCAGGGCGGCTGACGCCCTCTGCCCAGAGTTTGTTTAAGGATGGCAGCCAAAGGAGTTCCGGTCTCCACGATTCCGAGGGTACGTTCGGTACCGCCCCCAGTATTGGATGAAGCAGTAGACACTCCATGTACTATAACTAACACTGTATATGGTTTCATTAGTGACTTTAGTGTTGTATCCCAATTGGTTCAGCACATACGGGGTGTATGCGGGATCTGCAGCGGGGACACCCCCTTAAGAGAACCATATATGTTACCAA',\n",
       " 'Rosalind_1694': 'TCGTTGCAGGTGCGGTAACATATAATGACCTTATCCAATAAGTGTAAACAACCAGGCCCCGCGTCTAAACGGATCCTTCATGATCTACAGATGGTCGAGGATTAGTAGGTTAATGACTCCCTCTGCATTTCATTGAATTATAGTCTTCACAGAACTTCAGGAAACTGCACTAAACGAGTGATCTAATCGCCCCGTATACTCGCAGTGGGGTCTTTGATAATCGTAATGTGGCTCGTGTCCTCCCCATCCGAGACCTGAGCTCTAGCAACATCATGACTATCCGATTACCGAGGTCAGATTATGGGTACGACTAAAGGGTATTAGTAACGAACGCGGCTTCGTGCTTGAACTTGGCATTAATAGCATCATCTTTAACTTTATAGTGTTAACTGGTGTCCCGAACAGTACGTTCCTTCCGATGCGCTGTGTCGACGTTGAACCACCCAGAGTCATCACCTTGTCAAACGACTTACGTCGTCCAGGGAATCAACGCTGAAAGATCCTCGCACACAGAGTCCGCATGAACCACGCTGCGAACTCTAGAACACAATCCGTAGATTGGTAAGCTTGGCTTTCTCTATAGTTAAATAGTCGACAAAAGCGTTAAACTAGGTACCGGTGACTGGGTAAAGCTGTAAGTTTAGACATGGTGGATGTCTATAATTTGATTATTACGATGAGTGATGCAGACCAAGGTCCGTCAACCTTCAACTGACAGTAGGCTTCCAGCTGCATAGGTAGGCCTTTCCCAAGTTTCCACTCCAACATGTCGACTGCGTGCTTATGCCGAAACTAACAGTATTATCTATATCAGATTACG',\n",
       " 'Rosalind_5677': 'CAATCCCCGAATTTCATGGCTCAGCGGATATTTCCAAACATTGTAAAACTCACTCGCCCACCGGGTAATATATTCAAGGAGTCTGCGTCCCGATTATGAGGTTGAAGACGTGATCGCGTGTTACGATCACACAGGTGAGCTTGCTTGATGGTGAGTCGTATGGCCGGGATGTTAGTACAGTGAGCACAAATGTTCCCGTAAACAACGGGGGGGTTTGCGCAAATGGGGACCACGCTTGGCTAAGGGTTCAACTACCTGGCTCCCCAGTCCGCCCCTCGTCGTGTTTCTAGTAAACTGTTTATCAGGGACGTTACCGTATTTCTATCCCCGAACGTTAGCCTATCGATACTAAGTATTATGGGAAGAGGTCGGCGCCGGCCCGGGTCATAAGATCAAAGATGCATCAGTGCATCTCGTAGTCCCCTATCTGTCATGCTCCCTTGGGCTCTCGATCGGCGATCAGAAATATTCTAGGGACTTCGTTTACGCGACGACAATGACAGTAAGGCAGTACTGCAGGCCATGAAGCTAAGCTATACTGGAATTCAGTCGGCATCAAACGCTAAATCTGAGTGCGTAAAGAGGTTTTAAAATTACGTCATTCTAACTATTCTCGGTTCGTGTCTTGCTCGAGAAAACACGGATCGTCCAATCTAATTGGAGTATGGCCGGTGGAAGGTTGCAAAAACCAAGACACCAGCGGGCCTATGATTCCCGTTCTCAGATAAAGCTGTTAAACACCGCTCGTAACAATCGACATTTTACCGATTCGATCGAGTAATTCTTTACGCCATGGGCGAATGAGTCAGGCATGGTCTAACGCCGATCAGTAATCCGCGTTTCGACAGATGTAGAACGATTGCATTGTAAACCGGTGCGATATGTGTCTCCGTTGATGTAGCACCTGACAAAGCGGTGTGAGAAAGTAGGCGGGGCGGGATGACTGCAAGCGCCTACTTCCATT',\n",
       " 'Rosalind_3436': 'GGTCGTAGCATCGATCTGAGGGGGCTTCAGGCTCGGCTTGTCCATCGGAATGTCAAGCTCGCGTGATGGAGATTCTCCCGATAAAGAGGTTGCGTTGTATTTATCCCTCCGCGAAACTTAGAGAACTATCTGATTGCGGACTGGGACAGAATTACTGGAATAAAGTCTACAACAACTACGTTGCCTTACCACACCGAGTAAAGCGTCCTCGGACGTTGCCTCTCTAGATATAGGCCGTTGCGTACGCCTGGTTCGGCGACCATTTGTATCCTGCTCGTTCCCGCCACGGCTCACGCAGTTCTTATACCGATGAGACGTTAAGTGAACTGTTGTTCATCAAGCAGATGTGGACGATTACAATTATGTCTCTTCCCTCGCACCACACGCGGCTCTAGGTCTTGTGCCACCAACAGGAACAAAGTTCAAGGTTGAGACTGTGAAAACAAATTTACTTTCAGATAACATGGCTCGCGACCAGGGCTATGCGCGGAAAGATGTAAACGAGTAAGCCAATGCCGGCTAATAGAATGCTCGGCGAAGGCAGTTCCGCGCCCGCCTAGCCTCGATAGTGGGGACCCGTAAGAGACGCTTTAAGTCAGTGCGAATGGGTTTCTCGTTCAGCACCCACGTTAACTTTCAAAACATCAACACTTGTAGAGATCAAAGTTGGTCGACACGCCGTGGGCAGGTGGAATTAAAGCCGAGCAAGTTCTGTGAATGCAGCGGGGGCACAACCCAACCATTTACCAGCCTTGGATATACGACTACCTGTTGCAGGTGTACCTTTTGATACTTTCGTGTACGCCGCTTGAGATACCGTACTGAGGCGGATAGTACCAATT',\n",
       " 'Rosalind_3241': 'CCCCCGCCCAAGCGCCAACGACAATCCAAAAACTCAGGCTTCACCAACGTTAGGGCTGCGCCATACTATGAAGAGTTCGTCAATCGACATTCTGTCGTAGAAGATTCAAACGGACGACGCCCTAATCAATACCCTACTTGTTCGACTACTCCACATCGTAAGAAGGACATTTCTAGAAAGGCGAAAGTTAGCTGAGCCGGTTGGTGCTTGGGTCGCTCAGCAACAACCGGTTGACGGTCAATAGGCGCACCCTCGATTACCACGAACTCGCGTATGTTTGAATGTGAGGCGCAGATAAACCATAGAGGGACATGGAGACTGGAAATCCTTGGGTATCGTATTTCTGGCAAGCTTCTCGAGAGAAATGTGCTATTGGCGTCTAATTCGATCATTATTTTGAAATAAACTAACAGCGCGTAGAGACTACCATAGCAGTCATTCTCTCCCTGTGTCCCCTTTGGATGCCCCTTCCTTGGCGGGTTCACACTAAGTTGTCAACCATGTATTTCGATCCATGCGCTACTCAGTCCTGGTTAGCAGTCCGCCATCCAATTAACCTAGGCTAAAACCAGCTCTTGCGGTCTCGAGACTTATGGCGCGCCGAGTCTAAAGTAACGCAATTCGGCCGTCCTGCCGCCTCTAGGAGGGCGTATCCAATTTCGCGAGATGCCCCTGACTAAAGTACCTCAGAGAGTTATAGTTATGCATGAACATACATTCGGTGGGTGCAGCGTGCGACAATATAGCTGCGCCACATCATCTGAGTGCTAGCATTAGCGTGTATGGGGTGCACCGCAAGTGAGTTTATCCATACCCACCTATCAAAATCGAAGAAATCAAATAACTTGCCGGTCACGAAGGC',\n",
       " 'Rosalind_5690': 'AAATGTTACACGAAGCAGGAAGTTTATTAGGCCGGATCGGCCAAATTCTGCATCACGCTTTTTTGCTTATCTTCGCCTACTAACGTACGTATAGCGCCAGGATGGTCCATAATATAGGGATGTACTTAATTCTCTGCACTGACGTGACGACAGTCGTTTCGGATAGCACACCGTACTAAGCATAGTCCACTTCACTAGACGGCTGGGCGGAACTCAACCTTTAGGACTGTTTATTCCTCCATGACAGTAAACTAGGAAGAGCGACTTGTGACCCGTGCTCCAGATCTGCGCAAAGGGTCCGGTTCATTAGGTGCGAGAATAATCCACACGAATGTAGAATAGAACTCGTGCGGGTCCATTAGCCGTACATCAATCGGCGAACTGGTAAGTCATCGTCCTACAGCAATGATGAGGCAGGATTTGCTCGCACGTCTGAGTTAGTCATGCACAGTCGTTGTCAGAGACGATCAAAGTGAAGAGCACCCGAGAGAAATGCAGACGAGTCGGTCACGAACCTACCCCAGTTATCGAGCAGACGTTTAGGCAAACTCGCGGCAATGCTACAAAGAGTCGCGTCCGGATTGAGTTGTCAAATAGAAGCCCGGAGGCTCAACCTATCTCGCACTAGTGGCCGACGATCTCCGAGGCCTGAAAAGAGCCGCCAACGGATGATACTAGATCTCACTCACAACAAGGATTACTAACGCTAGATATCCAAGTTAGGGTCCTTAAGGCATGCCAACCAGGGACGTAACTGCTCGGACAAAGGTCAGGTGTTGCCGAATAGAAGCCCGACAGTTATGCGCCAGTTGCTGGCT',\n",
       " 'Rosalind_7752': 'ATTAACCATAATGCCTATTTAAGGCATCTCACGGATTGGACTAGCATGTGTCAGGTTAGAGAGTCAATTCTCGGTCCGATGCTGGCGGTCTAGCCACATAAGGGTCCAGTTGGGCGGCCGGCAGGGGAGTGCGCTTAATTGAACACTAGTAGCTTAGCGCACAGCCTGGCCTTGGCGACCGCCCACTAGTCGCACCGGCGCTTTGTAATCGTAACACTAGTCGAATCAATGCACGGCCGACTCGCGTTTGCTGGCTCAGCTCTCGCGTGTCCTCTAGGTGATGAACACTTCCTACCGTGGTTGTTACTCGTACCCTGTTGCGGCATATGGTCAGTAGGGGATTATGGCATGCGCTGTTCCCCTGGGTTGCGCACGCGAACGACCCTTGACTACACACCACCTTTATTGGACGGGCAACTTAACCAAAATAGGCACATGAAAAACATTGGCTCACGACCGGTTTATTCGGAGACTCATCGGTCCGGAAGCGGACCGCGATGTCCCTTCTTCTTAGAATGTACGCGAAATGGAACTATTTGGAGATTGGCCTTCCGATAACCCGTCGTCTCTATCGATTTAATAAGTTAGCCGACGTAATCAGACCCCGGACGATTTCGCGCTAAAATGTCAAACCGCCTCGCAATAAGAGTTTCCTTCCTACACGTAGGAAAACGATCTGCATGTAACCATATTCCGAGGATGTAACATGCGATCCGGCGGTAGGGCGGGGCCTGCTAGGGATGTAAATGTGAACGAATAAAGTCAGTGAGTCTTGCTCACCAGCGCACCGGAGTAGAAAAATGATTCACGGATAGGGTACTAAACTGCAGGACCCAGAGCTATACATGTCGCAAGG',\n",
       " 'Rosalind_6397': 'AACCCTCCGGATTCGAATCGTTCTGACGAATTTCAAACCGTTGACACTAGATTGGTACACCTAATGAACAGGCTAGTTCTGGGTTCCAGGGCCCTATGTCGGTTCCCTTACTGGTCAGTCCCGTCCGCCCCCACAAACACGGGCTCACTACTTTTGTACCTATAGGTAAAGCCGTACGGGAACCGTAGACAGTCTTCTTCCCGTTATAGGACCTCAAAGCATACTCTGAGTAAGCCTTGCTATCATGGCCGTGTATACCCGATTAGGCGCCATCGTTCATGATCTTAGGAATCTTTCGTAAAGAGACGAAGTTTTCAGACTTCCTCTAATAGTGAAGCAACGGAAGAGAGACGACCATGGTTTGACTAATCGCCGGACACCACGGTCATTTATAATGTTTACTTGAGATAAGCAATTTAAAGCGACGGCTCTGACTGTATTACAGTCGTGCAACGTACCGATGGTTGAAATCTGCATATGATGACAACGCCATCTCCCTGCAAGCTGAATAGGGGATAGCTTAGCGTGCGTGTCGTGCCCGGTGTTGACTGATTCCCGGCATCTTGTGGTACATGATCGGAGAGCGCTTTACTGAACAAAGGCAGCGACCGGGTGGTTTGTTGGAATCCTCCTAGTAGGTAAGCCGAATGACTCAGCTATAACATAGGAAACCGACTAGCTGCCCCGATGTGCCCCGCATGAGCATTGGGTGATTTAGACCGCTACTTTCGGCTGTGGATAACAAAAGTCCTCCACAACGCGTGACAGGCAGGAAAAACATACTTATCATTCAACCGCGGTGGGCGATCGAGTCACTCCCATACACAATCCTCTTTCTTGAGAGTACTATGCCTTTGTTTCTCGCGTGATCAAATATCTCAAACGAACCGATCCGTCACGTTAAAACATTATACACCGGGTCAATGACATTCTC',\n",
       " 'Rosalind_7783': 'AAGCCTCCCGGAACTATCGCCCTATAGTACGTGCTTTCTTGTTCGTAAATTCTTCTCGGTGACCTGTCTGTTCGATGTTGCTTGAGGCAGCAGGTAGTAATATAAAGTCATAATCTGCGGTTGGGCGCTCCGGCGGGTGAGGCTGCCATTCCGTATAATGCATAAGGCAACAAAAGATAGGGCTTACACTGGCCAGAGGACATAGACGCCGCGATACTCACCATACGCCACTTATGACCACCGGAGTAGTAAAACCCACCTGCGGCTCGTTAATGAATGTACAGCGGGTCACTACTGGAGAAGTACATCCGAGCGCTTAGGCGTCGTACTTACCCGGTGATCAGTAATAACATAAGGCCGCTTTTAGCACCTGGAGGTCGACCTGGGTCCTATTCCAAATGATTAGCCAGCCACATTCAGAAATATGTTCGACGCCGTAATGCATGCTTATCTGCCGCACCACCTCGGGAATACCGCATGCCGCAACCGCGTATCGCCGTTTAACACCAAATACTTAGGACTCTCTACCTACGGATGACGTAGCGACCTGCTCGGATACGATGAAATTCGGTGACGGGCAAATCTTCAGTATTAAGTTGGGTGATGACCTGCGACCATACGTGTACCGCAGCCGGTTGCCCTAATCCACGAGTGCAGACGTGTCACAGAATTACACTCATAGTACGTGCTATATACTGGCTTAGGAGGGTTAGGTCCGGGATTTTGTCTTTGAAAGGCTAATAAGCTTTCGATGACGAGCAGTACTTTCAAACGCGCCGCACGTACCGCACGCAAAGCCTTAGTATAATCCAAGACTCCAGCCGCCTTATATGTATCTTAGATCCGGATACACCCGATCGC',\n",
       " 'Rosalind_8061': 'CGGAGTGTGAGTAAGCGTCCTGCGGGCCGTACAGAACGACACGATCGAGTTTGAATCCGGACTAATACAATAATGTACATATTCCTGGCAAATAGAGGAATCTAACTGCAAACCTTGGTTGGAATTATTACGCGTTGGTCTTCGGATGAATGTTTCACTTTCCCGCTGACCGGGCAGATTGGCAATTATGAATGGCGGTTTAAGTAGCTACGTGCGCTACGTTGAATACAACGGAGGACCGTTATGTAGCGGATTTGTCAGACCAAGACCACTGCAATAACCAGTTGCTGTTAGCGTACGATCATCGCCGTTGCTGATGTACGGACGCCGCGCATGGAACGGAATCCCGACTCCTTGCGGCTCACCGAGTCACCTGCGTTGGTGTCATTTTCTGACCTAAGCTAACAATACGTCAATTCCGTACTGCCTGAAGTGGCGCTCTCTGGCCGTCTACTTTGCTTCTCCCGCACAACTCTGCCCCGCTCTCCCCCAGGTATAGTACTCTTACGCTCTCCTCACAGGGCAGGCATCTTAACAAGATGCATGACTACATCTCGGGAGTCAGACACACAGTTATAACCCTCGGGTGCAGTTTTGTGGACCAGCAGGCCGTATACTTACAGGCTATATCGGATTTAGTCGCGCCACAACACTCTAACCTCTGGGTCCGGAGAATAGAATTCGTTAGTGATAGATAGGGTGGAGTCGCTATATCAACGCTTCCCTCGGTTTGAACCCTGGTCCAGTGACACTAGGAATCCAACTCTTTCCACTCTCCGTCACAAGACGGCGTGAGCCTGAGTACCTGAGTTCTGTGCTAAGA'}"
      ]
     },
     "execution_count": 139,
     "metadata": {},
     "output_type": "execute_result"
    }
   ],
   "source": [
    "sequence_dict"
   ]
  },
  {
   "cell_type": "code",
   "execution_count": 140,
   "metadata": {},
   "outputs": [
    {
     "data": {
      "text/plain": [
       "('Rosalind_7752', 51.4018691588785)"
      ]
     },
     "execution_count": 140,
     "metadata": {},
     "output_type": "execute_result"
    }
   ],
   "source": [
    "compare_GC_content(sequence_dict)"
   ]
  },
  {
   "cell_type": "code",
   "execution_count": 141,
   "metadata": {},
   "outputs": [],
   "source": [
    "test_dict = {'Rosalind_6404' : 'CCTGCGGAAGATCGGCACTAGAATAGCCAGAACCGTTTCTCTGAGGCTTCCGGCCTTCCCTCCCACTAATAATTCTGAGG',\n",
    "'Rosalind_5959' : 'CCATCGGTAGCGCATCCTTAGTCCAATTAAGTCCCTATCCAGGCGCTCCGCCGAAGGTCTATATCCATTTGTCAGCAGACACGC',\n",
    "'Rosalind_0808' : 'CCACCCTCGTGGTATGGCTAGGCATTCAGGAACCGGAGAACGCTTCAGACCAGCCCGGACTGGGAACCTGCGGGCAGTAGGTGGAAT'}"
   ]
  },
  {
   "cell_type": "code",
   "execution_count": 142,
   "metadata": {},
   "outputs": [
    {
     "data": {
      "text/plain": [
       "('Rosalind_0808', 60.91954022988506)"
      ]
     },
     "execution_count": 142,
     "metadata": {},
     "output_type": "execute_result"
    }
   ],
   "source": [
    "compare_GC_content(test_dict)"
   ]
  },
  {
   "attachments": {},
   "cell_type": "markdown",
   "metadata": {},
   "source": [
    "5. Given: Two DNA strings s\n",
    " and t\n",
    " (each of length at most 1 kbp).\n",
    "\n",
    "Return: All locations of t\n",
    " as a substring of s\n",
    "."
   ]
  },
  {
   "cell_type": "code",
   "execution_count": 143,
   "metadata": {},
   "outputs": [],
   "source": [
    "test_string = \"GATATATGCATATACTT\"\n",
    "test_pattern = \"ATAT\""
   ]
  },
  {
   "cell_type": "code",
   "execution_count": 196,
   "metadata": {},
   "outputs": [],
   "source": [
    "def find_starting_pos(seq, pattern):\n",
    "    pattern_pos = []\n",
    "    start = 0\n",
    "    stop = len(pattern) \n",
    "    while stop <= len(seq) + 1:\n",
    "        if seq[start:stop] == pattern:\n",
    "            pattern_pos.append(start + 1)\n",
    "        start += 1\n",
    "        stop = start + len(pattern)\n",
    "    return \" \".join(str(i) for i in pattern_pos) "
   ]
  },
  {
   "cell_type": "code",
   "execution_count": 197,
   "metadata": {},
   "outputs": [
    {
     "data": {
      "text/plain": [
       "'2 4 10'"
      ]
     },
     "execution_count": 197,
     "metadata": {},
     "output_type": "execute_result"
    }
   ],
   "source": [
    "find_starting_pos(test_string, test_pattern)"
   ]
  },
  {
   "cell_type": "code",
   "execution_count": 198,
   "metadata": {},
   "outputs": [],
   "source": [
    "file_path = os.path.expanduser(\"~/Downloads/rosalind_subs.txt\")\n",
    "f = open(file_path, \"r\")\n",
    "sequence = f.read().split(\"\\n\")"
   ]
  },
  {
   "cell_type": "code",
   "execution_count": 199,
   "metadata": {},
   "outputs": [
    {
     "data": {
      "text/plain": [
       "['GGGGCCTCCCATGCTCCCATGTATCCCATGTCATCCCATGCTCTCCCATGTCCCATGTCCCATGTCCCATGCGTGCTTCCCATGTGTCTCCCATGTCCCATGCGCGATCCCATGATCCCATGTCCCATGGTCCCATGCCTCCCATGCTCCCATGATCTTCCCATGTCCCATGAGCTTTCCCATGATCCCATGTCCCATGAAGACTTCCCATGATCCCATGTCCCATGTCCCATGTCCCATGTCCCATGCATATCCCATGCTCCCATGAACTCCCATGCTCCCATGTTGGCTCCCATGTCCCATGATTCCCATGGTCCCATGTCCCATGTAGTCCCATGCAAATGTTCCCATGTCCCATGAGTCCCATGGTCCCATGTCCCATGTCCCATGCTGTTCCCATGTCCCATGTCCCATGGAAGTCCCATGCTAATTCCCATGAGGGTCCCATGTGTTCCCATGTTTATTTCCCATGTCGAACACTTCCCATGCCTCCCATGTCCCATGCGAAATCCCATGCCATAGTCCCATGTCCCATGAAGTCTCCCATGTTCCCATGCCCTCCCATGGCGTCCCATGTCCCATGGCCAGTCCCATGCCGAGCTTATCTCCCATGTCCCATGATCCCGTTCCCATGCCTTAGAATATCCCATGCTCCCATGGATCCCATGTCGGAAGGGTCCCATGTCCCATGTCCCATGGTATTTCCCATGCTTGCCTCCCATGTATCCCATGCATCCATTCCCATGTCCCATGTCCCATGTCCCATGGACAATCCCATGTTTTCACCAAGTTATCCCATGTTCCCATGCTCCCATGCTCACTCCCATGATTTCATCCCATGCTTCCCATGAATCCCATGTCCCATGTAGATCCCATGAGCCGTCCCATGTCCCATGGTTCCCATGAGTCCCATGCATTCCCATGATCCTGTCCCATGATCCCATGTCCCATGCTCCCATG',\n",
       " 'TCCCATGTC',\n",
       " '']"
      ]
     },
     "execution_count": 199,
     "metadata": {},
     "output_type": "execute_result"
    }
   ],
   "source": [
    "sequence"
   ]
  },
  {
   "cell_type": "code",
   "execution_count": 200,
   "metadata": {},
   "outputs": [
    {
     "data": {
      "text/plain": [
       "'24 44 51 58 89 116 159 186 214 221 228 235 291 315 346 370 377 395 402 466 491 523 570 607 662 678 685 740 747 754 853 883 939'"
      ]
     },
     "execution_count": 200,
     "metadata": {},
     "output_type": "execute_result"
    }
   ],
   "source": [
    "find_starting_pos(sequence[0], sequence[1])"
   ]
  },
  {
   "attachments": {},
   "cell_type": "markdown",
   "metadata": {},
   "source": [
    "6. Given: A DNA string of length at most 1 kbp in FASTA format.\n",
    "\n",
    "Return: The position and length of every reverse palindrome in the string having length between 4 and 12. You may return these pairs in any order.\n",
    "\n"
   ]
  },
  {
   "cell_type": "code",
   "execution_count": 253,
   "metadata": {},
   "outputs": [],
   "source": [
    "# find sequences that are repeated in a string\n",
    "\n",
    "def check_palindrome(seq): \n",
    "    rev = []\n",
    "    for n in range(len(seq)):\n",
    "        if seq[n] == \"A\":\n",
    "            rev.append(\"T\")\n",
    "        if seq[n] == \"T\":\n",
    "            rev.append(\"A\")    \n",
    "        if seq[n] == \"G\":\n",
    "            rev.append(\"C\")     \n",
    "        if seq[n] == \"C\":\n",
    "            rev.append(\"G\")\n",
    "    rev = \"\".join(rev)  \n",
    "    return seq == rev[::-1]\n",
    "\n",
    "def scan_palindrome(seq): \n",
    "    all_occur = {}\n",
    "    for n in range(len(seq)):\n",
    "        n_start = n\n",
    "        n_stop = n_start + 4\n",
    "        while n_stop <= len(seq):\n",
    "            segment = seq[n_start:n_stop]\n",
    "            curr_seq = seq\n",
    "            if check_palindrome(segment):\n",
    "                first_occur = curr_seq.find(segment)\n",
    "                all_occur[n_start + 1] = len(segment)\n",
    "                print (n_start + 1, len(segment))\n",
    "            n_stop += 1    \n",
    "        \n",
    "    "
   ]
  },
  {
   "cell_type": "code",
   "execution_count": 254,
   "metadata": {},
   "outputs": [
    {
     "data": {
      "text/plain": [
       "True"
      ]
     },
     "execution_count": 254,
     "metadata": {},
     "output_type": "execute_result"
    }
   ],
   "source": [
    "test = \"GCATGC\"\n",
    "check_palindrome(test)"
   ]
  },
  {
   "cell_type": "code",
   "execution_count": 255,
   "metadata": {},
   "outputs": [
    {
     "name": "stdout",
     "output_type": "stream",
     "text": [
      "4 6\n",
      "5 4\n",
      "6 6\n",
      "7 4\n",
      "17 4\n",
      "18 4\n",
      "20 6\n",
      "21 4\n"
     ]
    }
   ],
   "source": [
    "scan_palindrome(\"TCAATGCATGCGGGTCTATATGCAT\")"
   ]
  },
  {
   "cell_type": "code",
   "execution_count": 256,
   "metadata": {},
   "outputs": [],
   "source": [
    "file_path = os.path.expanduser(\"~/Downloads/rosalind_revp.txt\")\n",
    "f = open(file_path, \"r\")\n",
    "sequence = f.read()"
   ]
  },
  {
   "cell_type": "code",
   "execution_count": 257,
   "metadata": {},
   "outputs": [],
   "source": [
    "sequence = sequence.split(\"\\n\")[1:-1]\n",
    "sequence2 = \"\".join(sequence)"
   ]
  },
  {
   "cell_type": "code",
   "execution_count": 258,
   "metadata": {},
   "outputs": [
    {
     "name": "stdout",
     "output_type": "stream",
     "text": [
      "1 4\n",
      "63 4\n",
      "73 4\n",
      "79 4\n",
      "81 4\n",
      "108 4\n",
      "144 4\n",
      "179 4\n",
      "185 4\n",
      "186 6\n",
      "187 4\n",
      "190 4\n",
      "195 6\n",
      "196 4\n",
      "256 6\n",
      "257 4\n",
      "280 4\n",
      "299 4\n",
      "300 4\n",
      "304 4\n",
      "314 4\n",
      "341 4\n",
      "349 4\n",
      "375 4\n",
      "377 4\n",
      "392 4\n",
      "415 4\n",
      "451 12\n",
      "452 10\n",
      "453 8\n",
      "454 6\n",
      "455 4\n",
      "460 4\n",
      "465 4\n",
      "502 4\n",
      "525 4\n",
      "553 4\n",
      "567 6\n",
      "568 4\n",
      "573 4\n",
      "577 6\n",
      "578 4\n",
      "606 4\n",
      "614 4\n",
      "636 4\n",
      "640 4\n",
      "653 4\n",
      "656 4\n",
      "661 6\n",
      "662 4\n",
      "664 4\n",
      "734 4\n",
      "792 4\n",
      "793 4\n",
      "812 8\n",
      "813 6\n",
      "814 4\n",
      "819 4\n",
      "858 4\n",
      "907 4\n",
      "907 6\n",
      "908 4\n",
      "909 4\n"
     ]
    }
   ],
   "source": [
    "scan_palindrome(sequence2)"
   ]
  },
  {
   "cell_type": "code",
   "execution_count": null,
   "metadata": {},
   "outputs": [],
   "source": []
  }
 ],
 "metadata": {
  "kernelspec": {
   "display_name": "venv",
   "language": "python",
   "name": "python3"
  },
  "language_info": {
   "codemirror_mode": {
    "name": "ipython",
    "version": 3
   },
   "file_extension": ".py",
   "mimetype": "text/x-python",
   "name": "python",
   "nbconvert_exporter": "python",
   "pygments_lexer": "ipython3",
   "version": "3.8.8"
  },
  "orig_nbformat": 4,
  "vscode": {
   "interpreter": {
    "hash": "78caa81e3627b05c33f6a27e2343475beb68d155d54763802f3d4d62a9b4391c"
   }
  }
 },
 "nbformat": 4,
 "nbformat_minor": 2
}
